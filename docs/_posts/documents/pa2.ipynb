{
 "cells": [
  {
   "cell_type": "markdown",
   "id": "4d2e9ad0",
   "metadata": {},
   "source": [
    "# COMP4211 Programming Assignment 2"
   ]
  },
  {
   "cell_type": "markdown",
   "id": "cfa12e8d",
   "metadata": {},
   "source": [
    "**Name: FONG, Ho Yin**  \n",
    "**SID: 20599045**"
   ]
  },
  {
   "cell_type": "markdown",
   "id": "f67e653b",
   "metadata": {},
   "source": [
    "### 4.2.1  Dataset and Dataloader\n",
    "\n",
    "Your first task is to implement a custom Dataset class for the Face Dataset. You are required to preprocess the images by: (1) resizing all the images to a size of 32x32, and (2) converting them to single-channel images. The Dataset.getitem() function should return two 32x32, single-channel images and one target label.\n",
    "\n",
    "Create the Dataset and Dataloader objects for train.csv, valid.csv and test.csv. You are suggested to use a batch size of 128 for model training."
   ]
  },
  {
   "cell_type": "code",
   "execution_count": 1,
   "id": "ac399c5c",
   "metadata": {},
   "outputs": [],
   "source": [
    "PATH = './'\n",
    "\n",
    "import pandas as pd\n",
    "import torch\n",
    "import numpy as np\n",
    "from PIL import Image\n",
    "from torch.utils.data import Dataset\n",
    "import os\n",
    "import matplotlib.pyplot as plt\n",
    "import torchvision.transforms as transforms\n",
    "\n",
    "class ImageDataset(Dataset):\n",
    "    def __init__(self, csv_file, index_dir, transform=None):\n",
    "        self.info_df = pd.read_csv(csv_file)    \n",
    "        self.index_dir = index_dir\n",
    "        self.transform = transform\n",
    "\n",
    "    def __getitem__(self, idx):\n",
    "        index_file = open(self.index_dir, 'r')\n",
    "        file_lines = index_file.readlines()\n",
    "        id1 = self.info_df.iloc[idx, 0]\n",
    "        image_path1 = file_lines[id1-1]\n",
    "        image_path1 = os.path.join(PATH, image_path1[image_path1.find(',')+1:image_path1.find('\\n')])\n",
    "        id2 = self.info_df.iloc[idx,1]\n",
    "        image_path2 = file_lines[id2-1]\n",
    "        image_path2 = os.path.join(PATH, image_path2[image_path2.find(',')+1:image_path1.find('\\n')])\n",
    "        image1 = Image.open(image_path1).convert('L')\n",
    "        image2 = Image.open(image_path2).convert('L')\n",
    "        label = np.array(self.info_df.iloc[idx, 2].astype(np.float32))\n",
    "        \n",
    "        if self.transform is not None:\n",
    "            image1, image2 = self.transform(image1), self.transform(image2)\n",
    "        \n",
    "        return image1, image2, label\n",
    "\n",
    "    def __len__(self):\n",
    "        return len(self.info_df)\n",
    "\n",
    "transform = transforms.Compose(\n",
    "    [transforms.Resize((32,32)),\n",
    "     transforms.ToTensor(), \n",
    "     transforms.Normalize((0.5,), (0.5, )) ])\n",
    "    \n",
    "train_dataset = ImageDataset(PATH + 'train.csv', PATH + 'index.txt', transform)\n",
    "valid_dataset = ImageDataset(PATH + 'valid.csv', PATH + 'index.txt', transform)\n",
    "test_dataset = ImageDataset(PATH + 'test.csv', PATH + 'index.txt', transform)"
   ]
  },
  {
   "cell_type": "code",
   "execution_count": 2,
   "id": "dc451d75",
   "metadata": {},
   "outputs": [],
   "source": [
    "import torchvision\n",
    "import torchvision.transforms as transforms\n",
    "from torch.utils.data import DataLoader\n",
    "\n",
    "train_loader = DataLoader(train_dataset, batch_size=128, shuffle=True)\n",
    "valid_loader = DataLoader(valid_dataset, batch_size=128, shuffle=False)\n",
    "test_loader = DataLoader(test_dataset, batch_size=128, shuffle=False)"
   ]
  },
  {
   "cell_type": "markdown",
   "id": "2fa17e53",
   "metadata": {},
   "source": [
    "### 4.2.2 Siamese Convolutional Neural Network\n",
    "\n",
    "#### Convolutional Layers\n",
    "\n",
    "The convolutional layers take an image as input and produce a hidden state vector as output. Here, you need to build a stack of convolutional layers according to the network architecture illustrated in Table 2. In addition, each convolutional layer is followed by batch normalization and a ReLU activation. Notice that the kernel size of the final average pooling layer is not provided. Given that the size of the output vector is [1 x 512], calculate the correct kernel size for the final average pooling layer and implement it in your model.\n",
    "\n",
    "**[Q1]** What is the correct kernel size in the average pooling layer? Explain your answer. (Hint: You may assume that there is a flattening operation after the average pooling layer.)\n",
    "\n",
    "**[Q2]** What is dropout in deep learning? Why does it work? Explain it briefly\n",
    "\n",
    "**[Q3]** What is the total number of trainable parameters in this Siamese network model?"
   ]
  },
  {
   "cell_type": "code",
   "execution_count": 3,
   "id": "63056bea",
   "metadata": {},
   "outputs": [],
   "source": [
    "import torch.nn as nn\n",
    "import torch.nn.functional as F\n",
    "import torch.optim as optim\n",
    "\n",
    "class Net(nn.Module):\n",
    "    def __init__(self):\n",
    "        super(Net, self).__init__()\n",
    "\n",
    "        self.conv1 = nn.Conv2d(in_channels=1, out_channels=32, kernel_size=3, padding=1)     # Conv 32 3x3 kernels, 1 stride 1 padding\n",
    "        self.conv2 = nn.Conv2d(in_channels=32, out_channels=32, kernel_size=3, padding=1)    # Conv 32 3x3 kernels, 1 stride 1 padding\n",
    "        self.pool1 = nn.MaxPool2d(kernel_size=2, stride=2)                                   # Pool 32 2x2 kernels, 2 stirde 0 padding\n",
    "        self.conv3 = nn.Conv2d(in_channels=32, out_channels=64, kernel_size=3, padding=1)    # Conv 64 3x3 kernels, 1 stride 1 padding\n",
    "        self.conv4 = nn.Conv2d(in_channels=64, out_channels=128, kernel_size=3, padding=1)   # Conv 128 3x3 kernels, 1 stride 1 padding\n",
    "        self.conv5 = nn.Conv2d(in_channels=128, out_channels=256, kernel_size=3, padding=1)  # Conv 256 3x3 kernels, 1 stride 1 padding\n",
    "        self.conv6 = nn.Conv2d(in_channels=256, out_channels=512, kernel_size=3, padding=1)  # Conv 512 3x3 kernels, 1 stride 1 padding\n",
    "        self.pool2 = nn.AvgPool2d(kernel_size=16)                                            # Pool 1 16x16 kernels, 1 stirde 0 padding\n",
    "        \n",
    "        self.norm1 = nn.BatchNorm2d(32) \n",
    "        self.norm2 = nn.BatchNorm2d(32) \n",
    "        self.norm3 = nn.BatchNorm2d(64)\n",
    "        self.norm4 = nn.BatchNorm2d(128)\n",
    "        self.norm5 = nn.BatchNorm2d(256)\n",
    "        self.norm6 = nn.BatchNorm2d(512)\n",
    "        \n",
    "        self.fc1 = nn.Linear(512, 512)\n",
    "        self.drop = nn.Dropout(0.5)\n",
    "        self.fc2 = nn.Linear(512,1)\n",
    "\n",
    "    def forward(self, x1, x2):\n",
    "        x1 = self.norm1(F.relu(self.conv1(x1)))\n",
    "        x1 = self.norm2(F.relu(self.conv2(x1)))\n",
    "        x1 = self.pool1(x1)\n",
    "        x1 = self.norm3(F.relu(self.conv3(x1)))\n",
    "        x1 = self.norm4(F.relu(self.conv4(x1)))\n",
    "        x1 = self.norm5(F.relu(self.conv5(x1)))\n",
    "        x1 = self.norm6(F.relu(self.conv6(x1)))\n",
    "        x1 = self.pool2(x1)\n",
    "        x2 = self.norm1(F.relu(self.conv1(x2)))\n",
    "        x2 = self.norm2(F.relu(self.conv2(x2)))\n",
    "        x2 = self.pool1(x2)\n",
    "        x2 = self.norm3(F.relu(self.conv3(x2)))\n",
    "        x2 = self.norm4(F.relu(self.conv4(x2)))\n",
    "        x2 = self.norm5(F.relu(self.conv5(x2)))\n",
    "        x2 = self.norm6(F.relu(self.conv6(x2)))\n",
    "        x2 = self.pool2(x2)\n",
    "        x1 = x1.view(-1, 512)\n",
    "        x2 = x2.view(-1, 512)\n",
    "        x = abs(x2 - x1)\n",
    "        x = self.drop(F.relu(self.fc1(x)))\n",
    "        x = torch.sigmoid(self.fc2(x))\n",
    "        return x\n"
   ]
  },
  {
   "cell_type": "code",
   "execution_count": 4,
   "id": "4977e849",
   "metadata": {},
   "outputs": [
    {
     "name": "stdout",
     "output_type": "stream",
     "text": [
      "======================================================================\n",
      "              Kernel Shape        Output Shape    Params    Mult-Adds\n",
      "Layer                                                                \n",
      "0_conv1      [1, 32, 3, 3]   [128, 32, 32, 32]     320.0     294.912k\n",
      "1_norm1               [32]   [128, 32, 32, 32]      64.0         32.0\n",
      "2_conv2     [32, 32, 3, 3]   [128, 32, 32, 32]    9.248k    9.437184M\n",
      "3_norm2               [32]   [128, 32, 32, 32]      64.0         32.0\n",
      "4_pool1                  -   [128, 32, 16, 16]         -            -\n",
      "5_conv3     [32, 64, 3, 3]   [128, 64, 16, 16]   18.496k    4.718592M\n",
      "6_norm3               [64]   [128, 64, 16, 16]     128.0         64.0\n",
      "7_conv4    [64, 128, 3, 3]  [128, 128, 16, 16]   73.856k   18.874368M\n",
      "8_norm4              [128]  [128, 128, 16, 16]     256.0        128.0\n",
      "9_conv5   [128, 256, 3, 3]  [128, 256, 16, 16]  295.168k   75.497472M\n",
      "10_norm5             [256]  [128, 256, 16, 16]     512.0        256.0\n",
      "11_conv6  [256, 512, 3, 3]  [128, 512, 16, 16]  1.18016M  301.989888M\n",
      "12_norm6             [512]  [128, 512, 16, 16]    1.024k        512.0\n",
      "13_pool2                 -    [128, 512, 1, 1]         -            -\n",
      "14_conv1     [1, 32, 3, 3]   [128, 32, 32, 32]         -     294.912k\n",
      "15_norm1              [32]   [128, 32, 32, 32]         -         32.0\n",
      "16_conv2    [32, 32, 3, 3]   [128, 32, 32, 32]         -    9.437184M\n",
      "17_norm2              [32]   [128, 32, 32, 32]         -         32.0\n",
      "18_pool1                 -   [128, 32, 16, 16]         -            -\n",
      "19_conv3    [32, 64, 3, 3]   [128, 64, 16, 16]         -    4.718592M\n",
      "20_norm3              [64]   [128, 64, 16, 16]         -         64.0\n",
      "21_conv4   [64, 128, 3, 3]  [128, 128, 16, 16]         -   18.874368M\n",
      "22_norm4             [128]  [128, 128, 16, 16]         -        128.0\n",
      "23_conv5  [128, 256, 3, 3]  [128, 256, 16, 16]         -   75.497472M\n",
      "24_norm5             [256]  [128, 256, 16, 16]         -        256.0\n",
      "25_conv6  [256, 512, 3, 3]  [128, 512, 16, 16]         -  301.989888M\n",
      "26_norm6             [512]  [128, 512, 16, 16]         -        512.0\n",
      "27_pool2                 -    [128, 512, 1, 1]         -            -\n",
      "28_fc1          [512, 512]          [128, 512]  262.656k     262.144k\n",
      "29_drop                  -          [128, 512]         -            -\n",
      "30_fc2            [512, 1]            [128, 1]     513.0        512.0\n",
      "----------------------------------------------------------------------\n",
      "                           Totals\n",
      "Total params            1.842465M\n",
      "Trainable params        1.842465M\n",
      "Non-trainable params          0.0\n",
      "Mult-Adds             821.889536M\n",
      "======================================================================\n"
     ]
    },
    {
     "data": {
      "text/html": [
       "<div>\n",
       "<style scoped>\n",
       "    .dataframe tbody tr th:only-of-type {\n",
       "        vertical-align: middle;\n",
       "    }\n",
       "\n",
       "    .dataframe tbody tr th {\n",
       "        vertical-align: top;\n",
       "    }\n",
       "\n",
       "    .dataframe thead th {\n",
       "        text-align: right;\n",
       "    }\n",
       "</style>\n",
       "<table border=\"1\" class=\"dataframe\">\n",
       "  <thead>\n",
       "    <tr style=\"text-align: right;\">\n",
       "      <th></th>\n",
       "      <th>Kernel Shape</th>\n",
       "      <th>Output Shape</th>\n",
       "      <th>Params</th>\n",
       "      <th>Mult-Adds</th>\n",
       "    </tr>\n",
       "    <tr>\n",
       "      <th>Layer</th>\n",
       "      <th></th>\n",
       "      <th></th>\n",
       "      <th></th>\n",
       "      <th></th>\n",
       "    </tr>\n",
       "  </thead>\n",
       "  <tbody>\n",
       "    <tr>\n",
       "      <th>0_conv1</th>\n",
       "      <td>[1, 32, 3, 3]</td>\n",
       "      <td>[128, 32, 32, 32]</td>\n",
       "      <td>320.0</td>\n",
       "      <td>294912.0</td>\n",
       "    </tr>\n",
       "    <tr>\n",
       "      <th>1_norm1</th>\n",
       "      <td>[32]</td>\n",
       "      <td>[128, 32, 32, 32]</td>\n",
       "      <td>64.0</td>\n",
       "      <td>32.0</td>\n",
       "    </tr>\n",
       "    <tr>\n",
       "      <th>2_conv2</th>\n",
       "      <td>[32, 32, 3, 3]</td>\n",
       "      <td>[128, 32, 32, 32]</td>\n",
       "      <td>9248.0</td>\n",
       "      <td>9437184.0</td>\n",
       "    </tr>\n",
       "    <tr>\n",
       "      <th>3_norm2</th>\n",
       "      <td>[32]</td>\n",
       "      <td>[128, 32, 32, 32]</td>\n",
       "      <td>64.0</td>\n",
       "      <td>32.0</td>\n",
       "    </tr>\n",
       "    <tr>\n",
       "      <th>4_pool1</th>\n",
       "      <td>-</td>\n",
       "      <td>[128, 32, 16, 16]</td>\n",
       "      <td>NaN</td>\n",
       "      <td>NaN</td>\n",
       "    </tr>\n",
       "    <tr>\n",
       "      <th>5_conv3</th>\n",
       "      <td>[32, 64, 3, 3]</td>\n",
       "      <td>[128, 64, 16, 16]</td>\n",
       "      <td>18496.0</td>\n",
       "      <td>4718592.0</td>\n",
       "    </tr>\n",
       "    <tr>\n",
       "      <th>6_norm3</th>\n",
       "      <td>[64]</td>\n",
       "      <td>[128, 64, 16, 16]</td>\n",
       "      <td>128.0</td>\n",
       "      <td>64.0</td>\n",
       "    </tr>\n",
       "    <tr>\n",
       "      <th>7_conv4</th>\n",
       "      <td>[64, 128, 3, 3]</td>\n",
       "      <td>[128, 128, 16, 16]</td>\n",
       "      <td>73856.0</td>\n",
       "      <td>18874368.0</td>\n",
       "    </tr>\n",
       "    <tr>\n",
       "      <th>8_norm4</th>\n",
       "      <td>[128]</td>\n",
       "      <td>[128, 128, 16, 16]</td>\n",
       "      <td>256.0</td>\n",
       "      <td>128.0</td>\n",
       "    </tr>\n",
       "    <tr>\n",
       "      <th>9_conv5</th>\n",
       "      <td>[128, 256, 3, 3]</td>\n",
       "      <td>[128, 256, 16, 16]</td>\n",
       "      <td>295168.0</td>\n",
       "      <td>75497472.0</td>\n",
       "    </tr>\n",
       "    <tr>\n",
       "      <th>10_norm5</th>\n",
       "      <td>[256]</td>\n",
       "      <td>[128, 256, 16, 16]</td>\n",
       "      <td>512.0</td>\n",
       "      <td>256.0</td>\n",
       "    </tr>\n",
       "    <tr>\n",
       "      <th>11_conv6</th>\n",
       "      <td>[256, 512, 3, 3]</td>\n",
       "      <td>[128, 512, 16, 16]</td>\n",
       "      <td>1180160.0</td>\n",
       "      <td>301989888.0</td>\n",
       "    </tr>\n",
       "    <tr>\n",
       "      <th>12_norm6</th>\n",
       "      <td>[512]</td>\n",
       "      <td>[128, 512, 16, 16]</td>\n",
       "      <td>1024.0</td>\n",
       "      <td>512.0</td>\n",
       "    </tr>\n",
       "    <tr>\n",
       "      <th>13_pool2</th>\n",
       "      <td>-</td>\n",
       "      <td>[128, 512, 1, 1]</td>\n",
       "      <td>NaN</td>\n",
       "      <td>NaN</td>\n",
       "    </tr>\n",
       "    <tr>\n",
       "      <th>14_conv1</th>\n",
       "      <td>[1, 32, 3, 3]</td>\n",
       "      <td>[128, 32, 32, 32]</td>\n",
       "      <td>NaN</td>\n",
       "      <td>294912.0</td>\n",
       "    </tr>\n",
       "    <tr>\n",
       "      <th>15_norm1</th>\n",
       "      <td>[32]</td>\n",
       "      <td>[128, 32, 32, 32]</td>\n",
       "      <td>NaN</td>\n",
       "      <td>32.0</td>\n",
       "    </tr>\n",
       "    <tr>\n",
       "      <th>16_conv2</th>\n",
       "      <td>[32, 32, 3, 3]</td>\n",
       "      <td>[128, 32, 32, 32]</td>\n",
       "      <td>NaN</td>\n",
       "      <td>9437184.0</td>\n",
       "    </tr>\n",
       "    <tr>\n",
       "      <th>17_norm2</th>\n",
       "      <td>[32]</td>\n",
       "      <td>[128, 32, 32, 32]</td>\n",
       "      <td>NaN</td>\n",
       "      <td>32.0</td>\n",
       "    </tr>\n",
       "    <tr>\n",
       "      <th>18_pool1</th>\n",
       "      <td>-</td>\n",
       "      <td>[128, 32, 16, 16]</td>\n",
       "      <td>NaN</td>\n",
       "      <td>NaN</td>\n",
       "    </tr>\n",
       "    <tr>\n",
       "      <th>19_conv3</th>\n",
       "      <td>[32, 64, 3, 3]</td>\n",
       "      <td>[128, 64, 16, 16]</td>\n",
       "      <td>NaN</td>\n",
       "      <td>4718592.0</td>\n",
       "    </tr>\n",
       "    <tr>\n",
       "      <th>20_norm3</th>\n",
       "      <td>[64]</td>\n",
       "      <td>[128, 64, 16, 16]</td>\n",
       "      <td>NaN</td>\n",
       "      <td>64.0</td>\n",
       "    </tr>\n",
       "    <tr>\n",
       "      <th>21_conv4</th>\n",
       "      <td>[64, 128, 3, 3]</td>\n",
       "      <td>[128, 128, 16, 16]</td>\n",
       "      <td>NaN</td>\n",
       "      <td>18874368.0</td>\n",
       "    </tr>\n",
       "    <tr>\n",
       "      <th>22_norm4</th>\n",
       "      <td>[128]</td>\n",
       "      <td>[128, 128, 16, 16]</td>\n",
       "      <td>NaN</td>\n",
       "      <td>128.0</td>\n",
       "    </tr>\n",
       "    <tr>\n",
       "      <th>23_conv5</th>\n",
       "      <td>[128, 256, 3, 3]</td>\n",
       "      <td>[128, 256, 16, 16]</td>\n",
       "      <td>NaN</td>\n",
       "      <td>75497472.0</td>\n",
       "    </tr>\n",
       "    <tr>\n",
       "      <th>24_norm5</th>\n",
       "      <td>[256]</td>\n",
       "      <td>[128, 256, 16, 16]</td>\n",
       "      <td>NaN</td>\n",
       "      <td>256.0</td>\n",
       "    </tr>\n",
       "    <tr>\n",
       "      <th>25_conv6</th>\n",
       "      <td>[256, 512, 3, 3]</td>\n",
       "      <td>[128, 512, 16, 16]</td>\n",
       "      <td>NaN</td>\n",
       "      <td>301989888.0</td>\n",
       "    </tr>\n",
       "    <tr>\n",
       "      <th>26_norm6</th>\n",
       "      <td>[512]</td>\n",
       "      <td>[128, 512, 16, 16]</td>\n",
       "      <td>NaN</td>\n",
       "      <td>512.0</td>\n",
       "    </tr>\n",
       "    <tr>\n",
       "      <th>27_pool2</th>\n",
       "      <td>-</td>\n",
       "      <td>[128, 512, 1, 1]</td>\n",
       "      <td>NaN</td>\n",
       "      <td>NaN</td>\n",
       "    </tr>\n",
       "    <tr>\n",
       "      <th>28_fc1</th>\n",
       "      <td>[512, 512]</td>\n",
       "      <td>[128, 512]</td>\n",
       "      <td>262656.0</td>\n",
       "      <td>262144.0</td>\n",
       "    </tr>\n",
       "    <tr>\n",
       "      <th>29_drop</th>\n",
       "      <td>-</td>\n",
       "      <td>[128, 512]</td>\n",
       "      <td>NaN</td>\n",
       "      <td>NaN</td>\n",
       "    </tr>\n",
       "    <tr>\n",
       "      <th>30_fc2</th>\n",
       "      <td>[512, 1]</td>\n",
       "      <td>[128, 1]</td>\n",
       "      <td>513.0</td>\n",
       "      <td>512.0</td>\n",
       "    </tr>\n",
       "  </tbody>\n",
       "</table>\n",
       "</div>"
      ],
      "text/plain": [
       "              Kernel Shape        Output Shape     Params    Mult-Adds\n",
       "Layer                                                                 \n",
       "0_conv1      [1, 32, 3, 3]   [128, 32, 32, 32]      320.0     294912.0\n",
       "1_norm1               [32]   [128, 32, 32, 32]       64.0         32.0\n",
       "2_conv2     [32, 32, 3, 3]   [128, 32, 32, 32]     9248.0    9437184.0\n",
       "3_norm2               [32]   [128, 32, 32, 32]       64.0         32.0\n",
       "4_pool1                  -   [128, 32, 16, 16]        NaN          NaN\n",
       "5_conv3     [32, 64, 3, 3]   [128, 64, 16, 16]    18496.0    4718592.0\n",
       "6_norm3               [64]   [128, 64, 16, 16]      128.0         64.0\n",
       "7_conv4    [64, 128, 3, 3]  [128, 128, 16, 16]    73856.0   18874368.0\n",
       "8_norm4              [128]  [128, 128, 16, 16]      256.0        128.0\n",
       "9_conv5   [128, 256, 3, 3]  [128, 256, 16, 16]   295168.0   75497472.0\n",
       "10_norm5             [256]  [128, 256, 16, 16]      512.0        256.0\n",
       "11_conv6  [256, 512, 3, 3]  [128, 512, 16, 16]  1180160.0  301989888.0\n",
       "12_norm6             [512]  [128, 512, 16, 16]     1024.0        512.0\n",
       "13_pool2                 -    [128, 512, 1, 1]        NaN          NaN\n",
       "14_conv1     [1, 32, 3, 3]   [128, 32, 32, 32]        NaN     294912.0\n",
       "15_norm1              [32]   [128, 32, 32, 32]        NaN         32.0\n",
       "16_conv2    [32, 32, 3, 3]   [128, 32, 32, 32]        NaN    9437184.0\n",
       "17_norm2              [32]   [128, 32, 32, 32]        NaN         32.0\n",
       "18_pool1                 -   [128, 32, 16, 16]        NaN          NaN\n",
       "19_conv3    [32, 64, 3, 3]   [128, 64, 16, 16]        NaN    4718592.0\n",
       "20_norm3              [64]   [128, 64, 16, 16]        NaN         64.0\n",
       "21_conv4   [64, 128, 3, 3]  [128, 128, 16, 16]        NaN   18874368.0\n",
       "22_norm4             [128]  [128, 128, 16, 16]        NaN        128.0\n",
       "23_conv5  [128, 256, 3, 3]  [128, 256, 16, 16]        NaN   75497472.0\n",
       "24_norm5             [256]  [128, 256, 16, 16]        NaN        256.0\n",
       "25_conv6  [256, 512, 3, 3]  [128, 512, 16, 16]        NaN  301989888.0\n",
       "26_norm6             [512]  [128, 512, 16, 16]        NaN        512.0\n",
       "27_pool2                 -    [128, 512, 1, 1]        NaN          NaN\n",
       "28_fc1          [512, 512]          [128, 512]   262656.0     262144.0\n",
       "29_drop                  -          [128, 512]        NaN          NaN\n",
       "30_fc2            [512, 1]            [128, 1]      513.0        512.0"
      ]
     },
     "execution_count": 4,
     "metadata": {},
     "output_type": "execute_result"
    }
   ],
   "source": [
    "from torchsummaryX import summary\n",
    "\n",
    "model = Net().cuda()\n",
    "summary(model, torch.zeros((128, 1, 32, 32)).cuda(), torch.zeros((128, 1, 32, 32)).cuda())"
   ]
  },
  {
   "cell_type": "markdown",
   "id": "e2e7234c",
   "metadata": {},
   "source": [
    "**[Q4]** If we replace the absolute difference aggregation function by concatenation (i.e., concatenating the hidden state vectors of the two input images into one before feeding into the fully\n",
    "connected layers), what is the change in the total number of trainable parameters when compared\n",
    "to the original setting?"
   ]
  },
  {
   "cell_type": "code",
   "execution_count": 5,
   "id": "fb998bed",
   "metadata": {},
   "outputs": [
    {
     "name": "stdout",
     "output_type": "stream",
     "text": [
      "====================================================================\n",
      "              Kernel Shape      Output Shape    Params    Mult-Adds\n",
      "Layer                                                              \n",
      "0_conv1      [1, 32, 3, 3]   [1, 32, 32, 32]     320.0     294.912k\n",
      "1_norm1               [32]   [1, 32, 32, 32]      64.0         32.0\n",
      "2_conv2     [32, 32, 3, 3]   [1, 32, 32, 32]    9.248k    9.437184M\n",
      "3_norm2               [32]   [1, 32, 32, 32]      64.0         32.0\n",
      "4_pool1                  -   [1, 32, 16, 16]         -            -\n",
      "5_conv3     [32, 64, 3, 3]   [1, 64, 16, 16]   18.496k    4.718592M\n",
      "6_norm3               [64]   [1, 64, 16, 16]     128.0         64.0\n",
      "7_conv4    [64, 128, 3, 3]  [1, 128, 16, 16]   73.856k   18.874368M\n",
      "8_norm4              [128]  [1, 128, 16, 16]     256.0        128.0\n",
      "9_conv5   [128, 256, 3, 3]  [1, 256, 16, 16]  295.168k   75.497472M\n",
      "10_norm5             [256]  [1, 256, 16, 16]     512.0        256.0\n",
      "11_conv6  [256, 512, 3, 3]  [1, 512, 16, 16]  1.18016M  301.989888M\n",
      "12_norm6             [512]  [1, 512, 16, 16]    1.024k        512.0\n",
      "13_pool2                 -    [1, 512, 1, 1]         -            -\n",
      "14_conv1     [1, 32, 3, 3]   [1, 32, 32, 32]         -     294.912k\n",
      "15_norm1              [32]   [1, 32, 32, 32]         -         32.0\n",
      "16_conv2    [32, 32, 3, 3]   [1, 32, 32, 32]         -    9.437184M\n",
      "17_norm2              [32]   [1, 32, 32, 32]         -         32.0\n",
      "18_pool1                 -   [1, 32, 16, 16]         -            -\n",
      "19_conv3    [32, 64, 3, 3]   [1, 64, 16, 16]         -    4.718592M\n",
      "20_norm3              [64]   [1, 64, 16, 16]         -         64.0\n",
      "21_conv4   [64, 128, 3, 3]  [1, 128, 16, 16]         -   18.874368M\n",
      "22_norm4             [128]  [1, 128, 16, 16]         -        128.0\n",
      "23_conv5  [128, 256, 3, 3]  [1, 256, 16, 16]         -   75.497472M\n",
      "24_norm5             [256]  [1, 256, 16, 16]         -        256.0\n",
      "25_conv6  [256, 512, 3, 3]  [1, 512, 16, 16]         -  301.989888M\n",
      "26_norm6             [512]  [1, 512, 16, 16]         -        512.0\n",
      "27_pool2                 -    [1, 512, 1, 1]         -            -\n",
      "28_fc1         [1024, 512]          [1, 512]    524.8k     524.288k\n",
      "29_drop                  -          [1, 512]         -            -\n",
      "30_fc2            [512, 1]            [1, 1]     513.0        512.0\n",
      "--------------------------------------------------------------------\n",
      "                          Totals\n",
      "Total params           2.104609M\n",
      "Trainable params       2.104609M\n",
      "Non-trainable params         0.0\n",
      "Mult-Adds             822.15168M\n",
      "====================================================================\n",
      "              Kernel Shape      Output Shape     Params    Mult-Adds\n",
      "Layer                                                               \n",
      "0_conv1      [1, 32, 3, 3]   [1, 32, 32, 32]      320.0     294912.0\n",
      "1_norm1               [32]   [1, 32, 32, 32]       64.0         32.0\n",
      "2_conv2     [32, 32, 3, 3]   [1, 32, 32, 32]     9248.0    9437184.0\n",
      "3_norm2               [32]   [1, 32, 32, 32]       64.0         32.0\n",
      "4_pool1                  -   [1, 32, 16, 16]        NaN          NaN\n",
      "5_conv3     [32, 64, 3, 3]   [1, 64, 16, 16]    18496.0    4718592.0\n",
      "6_norm3               [64]   [1, 64, 16, 16]      128.0         64.0\n",
      "7_conv4    [64, 128, 3, 3]  [1, 128, 16, 16]    73856.0   18874368.0\n",
      "8_norm4              [128]  [1, 128, 16, 16]      256.0        128.0\n",
      "9_conv5   [128, 256, 3, 3]  [1, 256, 16, 16]   295168.0   75497472.0\n",
      "10_norm5             [256]  [1, 256, 16, 16]      512.0        256.0\n",
      "11_conv6  [256, 512, 3, 3]  [1, 512, 16, 16]  1180160.0  301989888.0\n",
      "12_norm6             [512]  [1, 512, 16, 16]     1024.0        512.0\n",
      "13_pool2                 -    [1, 512, 1, 1]        NaN          NaN\n",
      "14_conv1     [1, 32, 3, 3]   [1, 32, 32, 32]        NaN     294912.0\n",
      "15_norm1              [32]   [1, 32, 32, 32]        NaN         32.0\n",
      "16_conv2    [32, 32, 3, 3]   [1, 32, 32, 32]        NaN    9437184.0\n",
      "17_norm2              [32]   [1, 32, 32, 32]        NaN         32.0\n",
      "18_pool1                 -   [1, 32, 16, 16]        NaN          NaN\n",
      "19_conv3    [32, 64, 3, 3]   [1, 64, 16, 16]        NaN    4718592.0\n",
      "20_norm3              [64]   [1, 64, 16, 16]        NaN         64.0\n",
      "21_conv4   [64, 128, 3, 3]  [1, 128, 16, 16]        NaN   18874368.0\n",
      "22_norm4             [128]  [1, 128, 16, 16]        NaN        128.0\n",
      "23_conv5  [128, 256, 3, 3]  [1, 256, 16, 16]        NaN   75497472.0\n",
      "24_norm5             [256]  [1, 256, 16, 16]        NaN        256.0\n",
      "25_conv6  [256, 512, 3, 3]  [1, 512, 16, 16]        NaN  301989888.0\n",
      "26_norm6             [512]  [1, 512, 16, 16]        NaN        512.0\n",
      "27_pool2                 -    [1, 512, 1, 1]        NaN          NaN\n",
      "28_fc1         [1024, 512]          [1, 512]   524800.0     524288.0\n",
      "29_drop                  -          [1, 512]        NaN          NaN\n",
      "30_fc2            [512, 1]            [1, 1]      513.0        512.0\n"
     ]
    }
   ],
   "source": [
    "class ConcatNet(nn.Module):\n",
    "    def __init__(self):\n",
    "        super(ConcatNet, self).__init__()\n",
    "\n",
    "        self.conv1 = nn.Conv2d(in_channels=1, out_channels=32, kernel_size=3, padding=1)     # Conv 32 3x3 kernels, 1 stride 1 padding\n",
    "        self.conv2 = nn.Conv2d(in_channels=32, out_channels=32, kernel_size=3, padding=1)    # Conv 32 3x3 kernels, 1 stride 1 padding\n",
    "        self.pool1 = nn.MaxPool2d(kernel_size=2, stride=2)                                   # Pool 32 2x2 kernels, 2 stirde 0 padding\n",
    "        self.conv3 = nn.Conv2d(in_channels=32, out_channels=64, kernel_size=3, padding=1)    # Conv 64 3x3 kernels, 1 stride 1 padding\n",
    "        self.conv4 = nn.Conv2d(in_channels=64, out_channels=128, kernel_size=3, padding=1)   # Conv 128 3x3 kernels, 1 stride 1 padding\n",
    "        self.conv5 = nn.Conv2d(in_channels=128, out_channels=256, kernel_size=3, padding=1)  # Conv 256 3x3 kernels, 1 stride 1 padding\n",
    "        self.conv6 = nn.Conv2d(in_channels=256, out_channels=512, kernel_size=3, padding=1)  # Conv 512 3x3 kernels, 1 stride 1 padding\n",
    "        self.pool2 = nn.AvgPool2d(kernel_size=16)                                            # Pool 1 16x16 kernels, 1 stirde 0 padding\n",
    "        \n",
    "        self.norm1 = nn.BatchNorm2d(32) \n",
    "        self.norm2 = nn.BatchNorm2d(32) \n",
    "        self.norm3 = nn.BatchNorm2d(64)\n",
    "        self.norm4 = nn.BatchNorm2d(128)\n",
    "        self.norm5 = nn.BatchNorm2d(256)\n",
    "        self.norm6 = nn.BatchNorm2d(512)\n",
    "        \n",
    "        self.fc1 = nn.Linear(1024, 512)\n",
    "        self.drop = nn.Dropout(0.5)\n",
    "        self.fc2 = nn.Linear(512,1)\n",
    "        \n",
    "    def forward(self, x1, x2):\n",
    "        x1 = self.norm1(F.relu(self.conv1(x1)))\n",
    "        x1 = self.norm2(F.relu(self.conv2(x1)))\n",
    "        x1 = self.pool1(x1)\n",
    "        x1 = self.norm3(F.relu(self.conv3(x1)))\n",
    "        x1 = self.norm4(F.relu(self.conv4(x1)))\n",
    "        x1 = self.norm5(F.relu(self.conv5(x1)))\n",
    "        x1 = self.norm6(F.relu(self.conv6(x1)))\n",
    "        x1 = self.pool2(x1)\n",
    "        x2 = self.norm1(F.relu(self.conv1(x2)))\n",
    "        x2 = self.norm2(F.relu(self.conv2(x2)))\n",
    "        x2 = self.pool1(x2)\n",
    "        x2 = self.norm3(F.relu(self.conv3(x2)))\n",
    "        x2 = self.norm4(F.relu(self.conv4(x2)))\n",
    "        x2 = self.norm5(F.relu(self.conv5(x2)))\n",
    "        x2 = self.norm6(F.relu(self.conv6(x2)))\n",
    "        x2 = self.pool2(x2)\n",
    "        x1 = x1.view(-1, 512)\n",
    "        x2 = x2.view(-1, 512)\n",
    "        x = torch.cat((x1,x2),1)\n",
    "        x = self.drop(F.relu(self.fc1(x)))\n",
    "        x = torch.sigmoid(self.fc2(x))\n",
    "        return x\n",
    "\n",
    "Q4model = ConcatNet().cuda()\n",
    "print(summary(Q4model, torch.zeros((1, 1, 32, 32)).cuda(), torch.zeros((1, 1, 32, 32)).cuda()))"
   ]
  },
  {
   "cell_type": "markdown",
   "id": "c8434c6b",
   "metadata": {},
   "source": [
    "### 4.2.3 Training and Validation\n",
    "The model is trained by minimizing the binary cross-entropy loss1 using the Adam optimizer with the default setting. You are expected to train your model for 20 epochs. During training, you are required to record the training and validation losses after every 10 steps (one step means\n",
    "one gradient update). Plot the training and validation loss curves versus the number of steps in the same graph using Tensorboard or matplotlib.\n",
    "\n",
    "**[Q5]** Paste the screenshot of the training and validation loss curves and report the final training and validation losses obtained. According to your plot, when should you stop training? Why?"
   ]
  },
  {
   "cell_type": "code",
   "execution_count": 6,
   "id": "b043d201",
   "metadata": {},
   "outputs": [],
   "source": [
    "from tqdm.notebook import tqdm\n",
    "from torch.utils.tensorboard import SummaryWriter\n",
    "\n",
    "def save_checkpoint(save_path, model, optimizer, val_loss):\n",
    "    if save_path==None:\n",
    "        return\n",
    "    save_path = save_path \n",
    "    state_dict = {'model_state_dict': model.state_dict(),\n",
    "                  'optimizer_state_dict': optimizer.state_dict(),\n",
    "                  'val_loss': val_loss}\n",
    "\n",
    "    torch.save(state_dict, save_path)\n",
    "    print(f'Model saved to {save_path}')\n",
    "\n",
    "def load_checkpoint(save_path, model, optimizer):\n",
    "    save_path = save_path \n",
    "    state_dict = torch.load(save_path)\n",
    "    model.load_state_dict(state_dict['model_state_dict'])\n",
    "    optimizer.load_state_dict(state_dict['optimizer_state_dict'])\n",
    "    val_loss = state_dict['val_loss']\n",
    "    print(f'Model loaded from {save_path}, with val loss: {val_loss}')\n",
    "    return val_loss\n",
    "\n",
    "\n",
    "def TRAIN(net, train_loader, valid_loader,  num_epochs, criterion, optimizer, val_loss, device, save_name, writer = None):\n",
    "    \n",
    "    if val_loss==None:\n",
    "        best_val_loss = float(\"Inf\")  \n",
    "    else: \n",
    "        best_val_loss=val_loss\n",
    "        print('Resume training')\n",
    "        \n",
    "    step = 0\n",
    "    running_loss = 0\n",
    "    for epoch in range(num_epochs):  # loop over the dataset multiple times\n",
    "        net.train()\n",
    "        #training loop\n",
    "        for input1, input2, labels in tqdm(train_loader):\n",
    "            \n",
    "            input1 = input1.to(device)\n",
    "            input2 = input2.to(device)\n",
    "            labels = labels.to(device)\n",
    "\n",
    "            outputs = net(input1, input2)\n",
    "            labels = labels.unsqueeze(1)\n",
    "            loss = criterion(outputs, labels)\n",
    "\n",
    "            optimizer.zero_grad()\n",
    "            loss.backward()\n",
    "            optimizer.step()\n",
    "            step += 1\n",
    "            \n",
    "            running_loss += loss.item()\n",
    "            \n",
    "            if (step%10 == 0):\n",
    "                # validation every 10 steps\n",
    "                with torch.no_grad():\n",
    "                    net.eval()\n",
    "                    valid_running_loss = 0\n",
    "                    for val_input1, val_input2, val_labels in valid_loader:\n",
    "\n",
    "                        val_input1 = val_input1.to(device)\n",
    "                        val_input2 = val_input2.to(device)\n",
    "                        val_labels = val_labels.to(device)\n",
    "\n",
    "                        val_outputs = net(val_input1, val_input2)\n",
    "                        val_labels = val_labels.unsqueeze(1)\n",
    "                        val_loss = criterion(val_outputs, val_labels)\n",
    "\n",
    "                        valid_running_loss += val_loss.item()\n",
    "\n",
    "                    valid_loss = valid_running_loss / len(valid_loader)\n",
    "                    \n",
    "                train_loss = running_loss / 10\n",
    "                print('Step {}, Training Loss: {:.4f}, Validation Loss: {:.4f}'\n",
    "                          .format(step, train_loss, valid_loss))\n",
    "                if (writer != None):\n",
    "                    writer.add_scalars('Loss', {'train': train_loss, 'valid': valid_loss}, step)\n",
    "                running_loss = 0\n",
    "                \n",
    "                if valid_loss < best_val_loss:\n",
    "                    best_val_loss = valid_loss\n",
    "                    save_checkpoint(save_name, net, optimizer, best_val_loss)\n",
    "        \n",
    "        print('Epoch [{}/{}] finished'.format(epoch+1, num_epochs))\n",
    "\n",
    "    print('Finished Training')"
   ]
  },
  {
   "cell_type": "code",
   "execution_count": 7,
   "id": "dd062870",
   "metadata": {
    "scrolled": true,
    "tags": []
   },
   "outputs": [
    {
     "name": "stdout",
     "output_type": "stream",
     "text": [
      "INFO:tensorflow:Enabling eager execution\n",
      "INFO:tensorflow:Enabling v2 tensorshape\n",
      "INFO:tensorflow:Enabling resource variables\n",
      "INFO:tensorflow:Enabling tensor equality\n",
      "INFO:tensorflow:Enabling control flow v2\n"
     ]
    },
    {
     "data": {
      "application/vnd.jupyter.widget-view+json": {
       "model_id": "a366be8223f14d88b88dbfda8ecea01a",
       "version_major": 2,
       "version_minor": 0
      },
      "text/plain": [
       "  0%|          | 0/39 [00:00<?, ?it/s]"
      ]
     },
     "metadata": {},
     "output_type": "display_data"
    },
    {
     "name": "stdout",
     "output_type": "stream",
     "text": [
      "Step 10, Training Loss: 0.7034, Validation Loss: 0.6911\n",
      "Model saved to net.pt\n",
      "Step 20, Training Loss: 0.6964, Validation Loss: 0.6921\n",
      "Step 30, Training Loss: 0.6994, Validation Loss: 0.6879\n",
      "Model saved to net.pt\n",
      "Epoch [1/20] finished\n"
     ]
    },
    {
     "data": {
      "application/vnd.jupyter.widget-view+json": {
       "model_id": "97cf4b6d5bc246c9b2b77ebb438ebec7",
       "version_major": 2,
       "version_minor": 0
      },
      "text/plain": [
       "  0%|          | 0/39 [00:00<?, ?it/s]"
      ]
     },
     "metadata": {},
     "output_type": "display_data"
    },
    {
     "name": "stdout",
     "output_type": "stream",
     "text": [
      "Step 40, Training Loss: 0.6882, Validation Loss: 0.7044\n",
      "Step 50, Training Loss: 0.6866, Validation Loss: 0.6890\n",
      "Step 60, Training Loss: 0.6866, Validation Loss: 0.6767\n",
      "Model saved to net.pt\n",
      "Step 70, Training Loss: 0.6952, Validation Loss: 0.6980\n",
      "Epoch [2/20] finished\n"
     ]
    },
    {
     "data": {
      "application/vnd.jupyter.widget-view+json": {
       "model_id": "3b9d37400b834cc18929c75fa2ca1d76",
       "version_major": 2,
       "version_minor": 0
      },
      "text/plain": [
       "  0%|          | 0/39 [00:00<?, ?it/s]"
      ]
     },
     "metadata": {},
     "output_type": "display_data"
    },
    {
     "name": "stdout",
     "output_type": "stream",
     "text": [
      "Step 80, Training Loss: 0.6943, Validation Loss: 0.6783\n",
      "Step 90, Training Loss: 0.6863, Validation Loss: 0.6811\n",
      "Step 100, Training Loss: 0.6845, Validation Loss: 0.6825\n",
      "Step 110, Training Loss: 0.6875, Validation Loss: 0.6949\n",
      "Epoch [3/20] finished\n"
     ]
    },
    {
     "data": {
      "application/vnd.jupyter.widget-view+json": {
       "model_id": "e1ef34ab62734d259c9ea4c91583b148",
       "version_major": 2,
       "version_minor": 0
      },
      "text/plain": [
       "  0%|          | 0/39 [00:00<?, ?it/s]"
      ]
     },
     "metadata": {},
     "output_type": "display_data"
    },
    {
     "name": "stdout",
     "output_type": "stream",
     "text": [
      "Step 120, Training Loss: 0.6898, Validation Loss: 0.7036\n",
      "Step 130, Training Loss: 0.6899, Validation Loss: 0.6836\n",
      "Step 140, Training Loss: 0.6916, Validation Loss: 0.6919\n",
      "Step 150, Training Loss: 0.6840, Validation Loss: 0.6877\n",
      "Epoch [4/20] finished\n"
     ]
    },
    {
     "data": {
      "application/vnd.jupyter.widget-view+json": {
       "model_id": "d0f6b8637b9d4575a885a665940fc1d9",
       "version_major": 2,
       "version_minor": 0
      },
      "text/plain": [
       "  0%|          | 0/39 [00:00<?, ?it/s]"
      ]
     },
     "metadata": {},
     "output_type": "display_data"
    },
    {
     "name": "stdout",
     "output_type": "stream",
     "text": [
      "Step 160, Training Loss: 0.6995, Validation Loss: 0.7035\n",
      "Step 170, Training Loss: 0.6918, Validation Loss: 0.6830\n",
      "Step 180, Training Loss: 0.6819, Validation Loss: 0.6780\n",
      "Step 190, Training Loss: 0.6764, Validation Loss: 0.6761\n",
      "Model saved to net.pt\n",
      "Epoch [5/20] finished\n"
     ]
    },
    {
     "data": {
      "application/vnd.jupyter.widget-view+json": {
       "model_id": "bf7e4f4038834794903a9534226b0dbd",
       "version_major": 2,
       "version_minor": 0
      },
      "text/plain": [
       "  0%|          | 0/39 [00:00<?, ?it/s]"
      ]
     },
     "metadata": {},
     "output_type": "display_data"
    },
    {
     "name": "stdout",
     "output_type": "stream",
     "text": [
      "Step 200, Training Loss: 0.7096, Validation Loss: 0.6764\n",
      "Step 210, Training Loss: 0.6734, Validation Loss: 0.6779\n",
      "Step 220, Training Loss: 0.6824, Validation Loss: 0.6772\n",
      "Step 230, Training Loss: 0.6704, Validation Loss: 0.6972\n",
      "Epoch [6/20] finished\n"
     ]
    },
    {
     "data": {
      "application/vnd.jupyter.widget-view+json": {
       "model_id": "f61654bb2e1445a0961c64ca5eae244d",
       "version_major": 2,
       "version_minor": 0
      },
      "text/plain": [
       "  0%|          | 0/39 [00:00<?, ?it/s]"
      ]
     },
     "metadata": {},
     "output_type": "display_data"
    },
    {
     "name": "stdout",
     "output_type": "stream",
     "text": [
      "Step 240, Training Loss: 0.6846, Validation Loss: 0.6652\n",
      "Model saved to net.pt\n",
      "Step 250, Training Loss: 0.6580, Validation Loss: 0.6454\n",
      "Model saved to net.pt\n",
      "Step 260, Training Loss: 0.6623, Validation Loss: 0.6440\n",
      "Model saved to net.pt\n",
      "Step 270, Training Loss: 0.6293, Validation Loss: 0.6301\n",
      "Model saved to net.pt\n",
      "Epoch [7/20] finished\n"
     ]
    },
    {
     "data": {
      "application/vnd.jupyter.widget-view+json": {
       "model_id": "d99479cf778040a59dae38aba54bea9e",
       "version_major": 2,
       "version_minor": 0
      },
      "text/plain": [
       "  0%|          | 0/39 [00:00<?, ?it/s]"
      ]
     },
     "metadata": {},
     "output_type": "display_data"
    },
    {
     "name": "stdout",
     "output_type": "stream",
     "text": [
      "Step 280, Training Loss: 0.6364, Validation Loss: 0.6461\n",
      "Step 290, Training Loss: 0.6428, Validation Loss: 0.6134\n",
      "Model saved to net.pt\n",
      "Step 300, Training Loss: 0.6185, Validation Loss: 0.6011\n",
      "Model saved to net.pt\n",
      "Step 310, Training Loss: 0.6118, Validation Loss: 0.5943\n",
      "Model saved to net.pt\n",
      "Epoch [8/20] finished\n"
     ]
    },
    {
     "data": {
      "application/vnd.jupyter.widget-view+json": {
       "model_id": "7d6c7ff373c5487eb614e2964511d869",
       "version_major": 2,
       "version_minor": 0
      },
      "text/plain": [
       "  0%|          | 0/39 [00:00<?, ?it/s]"
      ]
     },
     "metadata": {},
     "output_type": "display_data"
    },
    {
     "name": "stdout",
     "output_type": "stream",
     "text": [
      "Step 320, Training Loss: 0.6255, Validation Loss: 0.6297\n",
      "Step 330, Training Loss: 0.6346, Validation Loss: 0.5922\n",
      "Model saved to net.pt\n",
      "Step 340, Training Loss: 0.6190, Validation Loss: 0.5912\n",
      "Model saved to net.pt\n",
      "Step 350, Training Loss: 0.5908, Validation Loss: 0.6056\n",
      "Epoch [9/20] finished\n"
     ]
    },
    {
     "data": {
      "application/vnd.jupyter.widget-view+json": {
       "model_id": "1b408ee31bf64ff3ac0101a35ba1f270",
       "version_major": 2,
       "version_minor": 0
      },
      "text/plain": [
       "  0%|          | 0/39 [00:00<?, ?it/s]"
      ]
     },
     "metadata": {},
     "output_type": "display_data"
    },
    {
     "name": "stdout",
     "output_type": "stream",
     "text": [
      "Step 360, Training Loss: 0.5950, Validation Loss: 0.6025\n",
      "Step 370, Training Loss: 0.5832, Validation Loss: 0.5709\n",
      "Model saved to net.pt\n",
      "Step 380, Training Loss: 0.5533, Validation Loss: 0.5603\n",
      "Model saved to net.pt\n",
      "Step 390, Training Loss: 0.5342, Validation Loss: 0.6050\n",
      "Epoch [10/20] finished\n"
     ]
    },
    {
     "data": {
      "application/vnd.jupyter.widget-view+json": {
       "model_id": "c5992eae296444debe57e3bcac1e17a3",
       "version_major": 2,
       "version_minor": 0
      },
      "text/plain": [
       "  0%|          | 0/39 [00:00<?, ?it/s]"
      ]
     },
     "metadata": {},
     "output_type": "display_data"
    },
    {
     "name": "stdout",
     "output_type": "stream",
     "text": [
      "Step 400, Training Loss: 0.5547, Validation Loss: 0.5520\n",
      "Model saved to net.pt\n",
      "Step 410, Training Loss: 0.5525, Validation Loss: 0.5573\n",
      "Step 420, Training Loss: 0.5501, Validation Loss: 0.5710\n",
      "Epoch [11/20] finished\n"
     ]
    },
    {
     "data": {
      "application/vnd.jupyter.widget-view+json": {
       "model_id": "f1aa5e8b3719437e8ff1696addec34aa",
       "version_major": 2,
       "version_minor": 0
      },
      "text/plain": [
       "  0%|          | 0/39 [00:00<?, ?it/s]"
      ]
     },
     "metadata": {},
     "output_type": "display_data"
    },
    {
     "name": "stdout",
     "output_type": "stream",
     "text": [
      "Step 430, Training Loss: 0.5531, Validation Loss: 0.5460\n",
      "Model saved to net.pt\n",
      "Step 440, Training Loss: 0.5390, Validation Loss: 0.5519\n",
      "Step 450, Training Loss: 0.5114, Validation Loss: 0.5522\n",
      "Step 460, Training Loss: 0.5178, Validation Loss: 0.5381\n",
      "Model saved to net.pt\n",
      "Epoch [12/20] finished\n"
     ]
    },
    {
     "data": {
      "application/vnd.jupyter.widget-view+json": {
       "model_id": "d8305ec3399c4b02b2fd9297b6490f8b",
       "version_major": 2,
       "version_minor": 0
      },
      "text/plain": [
       "  0%|          | 0/39 [00:00<?, ?it/s]"
      ]
     },
     "metadata": {},
     "output_type": "display_data"
    },
    {
     "name": "stdout",
     "output_type": "stream",
     "text": [
      "Step 470, Training Loss: 0.5059, Validation Loss: 0.5055\n",
      "Model saved to net.pt\n",
      "Step 480, Training Loss: 0.4571, Validation Loss: 0.5293\n",
      "Step 490, Training Loss: 0.5024, Validation Loss: 0.5233\n",
      "Step 500, Training Loss: 0.4868, Validation Loss: 0.5022\n",
      "Model saved to net.pt\n",
      "Epoch [13/20] finished\n"
     ]
    },
    {
     "data": {
      "application/vnd.jupyter.widget-view+json": {
       "model_id": "2510eb10d99c4fc58156331592e1fb64",
       "version_major": 2,
       "version_minor": 0
      },
      "text/plain": [
       "  0%|          | 0/39 [00:00<?, ?it/s]"
      ]
     },
     "metadata": {},
     "output_type": "display_data"
    },
    {
     "name": "stdout",
     "output_type": "stream",
     "text": [
      "Step 510, Training Loss: 0.5002, Validation Loss: 0.5769\n",
      "Step 520, Training Loss: 0.4630, Validation Loss: 0.5043\n",
      "Step 530, Training Loss: 0.4433, Validation Loss: 0.5540\n",
      "Step 540, Training Loss: 0.4596, Validation Loss: 0.5511\n",
      "Epoch [14/20] finished\n"
     ]
    },
    {
     "data": {
      "application/vnd.jupyter.widget-view+json": {
       "model_id": "5c75c730c47d404db39aab17fcc8d9d9",
       "version_major": 2,
       "version_minor": 0
      },
      "text/plain": [
       "  0%|          | 0/39 [00:00<?, ?it/s]"
      ]
     },
     "metadata": {},
     "output_type": "display_data"
    },
    {
     "name": "stdout",
     "output_type": "stream",
     "text": [
      "Step 550, Training Loss: 0.4662, Validation Loss: 0.5216\n",
      "Step 560, Training Loss: 0.4217, Validation Loss: 0.4718\n",
      "Model saved to net.pt\n",
      "Step 570, Training Loss: 0.4300, Validation Loss: 0.4808\n",
      "Step 580, Training Loss: 0.4224, Validation Loss: 0.4671\n",
      "Model saved to net.pt\n",
      "Epoch [15/20] finished\n"
     ]
    },
    {
     "data": {
      "application/vnd.jupyter.widget-view+json": {
       "model_id": "0be8f801a2b24c0a8d37769b9eeb1ef0",
       "version_major": 2,
       "version_minor": 0
      },
      "text/plain": [
       "  0%|          | 0/39 [00:00<?, ?it/s]"
      ]
     },
     "metadata": {},
     "output_type": "display_data"
    },
    {
     "name": "stdout",
     "output_type": "stream",
     "text": [
      "Step 590, Training Loss: 0.4175, Validation Loss: 0.5153\n",
      "Step 600, Training Loss: 0.4229, Validation Loss: 0.4756\n",
      "Step 610, Training Loss: 0.4069, Validation Loss: 0.4669\n",
      "Model saved to net.pt\n",
      "Step 620, Training Loss: 0.3755, Validation Loss: 0.4841\n",
      "Epoch [16/20] finished\n"
     ]
    },
    {
     "data": {
      "application/vnd.jupyter.widget-view+json": {
       "model_id": "d96caec70bda42df97d06479345a07c5",
       "version_major": 2,
       "version_minor": 0
      },
      "text/plain": [
       "  0%|          | 0/39 [00:00<?, ?it/s]"
      ]
     },
     "metadata": {},
     "output_type": "display_data"
    },
    {
     "name": "stdout",
     "output_type": "stream",
     "text": [
      "Step 630, Training Loss: 0.3474, Validation Loss: 0.4728\n",
      "Step 640, Training Loss: 0.3377, Validation Loss: 0.5191\n",
      "Step 650, Training Loss: 0.3725, Validation Loss: 0.5163\n",
      "Step 660, Training Loss: 0.3767, Validation Loss: 0.4827\n",
      "Epoch [17/20] finished\n"
     ]
    },
    {
     "data": {
      "application/vnd.jupyter.widget-view+json": {
       "model_id": "4d02aa01e0a24833b65534bc553091f0",
       "version_major": 2,
       "version_minor": 0
      },
      "text/plain": [
       "  0%|          | 0/39 [00:00<?, ?it/s]"
      ]
     },
     "metadata": {},
     "output_type": "display_data"
    },
    {
     "name": "stdout",
     "output_type": "stream",
     "text": [
      "Step 670, Training Loss: 0.3539, Validation Loss: 0.4862\n",
      "Step 680, Training Loss: 0.3164, Validation Loss: 0.4908\n",
      "Step 690, Training Loss: 0.2995, Validation Loss: 0.4948\n",
      "Step 700, Training Loss: 0.3090, Validation Loss: 0.4801\n",
      "Epoch [18/20] finished\n"
     ]
    },
    {
     "data": {
      "application/vnd.jupyter.widget-view+json": {
       "model_id": "63a0a11b2d514ffdbbfe36a2acca1d64",
       "version_major": 2,
       "version_minor": 0
      },
      "text/plain": [
       "  0%|          | 0/39 [00:00<?, ?it/s]"
      ]
     },
     "metadata": {},
     "output_type": "display_data"
    },
    {
     "name": "stdout",
     "output_type": "stream",
     "text": [
      "Step 710, Training Loss: 0.2620, Validation Loss: 0.4996\n",
      "Step 720, Training Loss: 0.2957, Validation Loss: 0.5402\n",
      "Step 730, Training Loss: 0.2863, Validation Loss: 0.5060\n",
      "Step 740, Training Loss: 0.3026, Validation Loss: 0.5142\n",
      "Epoch [19/20] finished\n"
     ]
    },
    {
     "data": {
      "application/vnd.jupyter.widget-view+json": {
       "model_id": "0d1d74fe98be4aee865118915287319f",
       "version_major": 2,
       "version_minor": 0
      },
      "text/plain": [
       "  0%|          | 0/39 [00:00<?, ?it/s]"
      ]
     },
     "metadata": {},
     "output_type": "display_data"
    },
    {
     "name": "stdout",
     "output_type": "stream",
     "text": [
      "Step 750, Training Loss: 0.2465, Validation Loss: 0.5422\n",
      "Step 760, Training Loss: 0.2478, Validation Loss: 0.5235\n",
      "Step 770, Training Loss: 0.2664, Validation Loss: 0.5328\n",
      "Step 780, Training Loss: 0.2508, Validation Loss: 0.4955\n",
      "Epoch [20/20] finished\n",
      "Finished Training\n"
     ]
    }
   ],
   "source": [
    "device = torch.device('cuda' if torch.cuda.is_available() else 'cpu')\n",
    "\n",
    "num_epochs = 20\n",
    "criterion = nn.BCELoss()\n",
    "optimizer = optim.Adam(model.parameters())\n",
    "model = model.to(device)          \n",
    "best_val_loss = None\n",
    "save_path = f'net.pt'\n",
    "writer = SummaryWriter(os.path.join(PATH, 'runs/hr'))\n",
    "\n",
    "TRAIN(model, train_loader, valid_loader, num_epochs, criterion, optimizer, best_val_loss, device, save_path, writer)"
   ]
  },
  {
   "cell_type": "code",
   "execution_count": 8,
   "id": "0397e742",
   "metadata": {},
   "outputs": [
    {
     "data": {
      "text/plain": [
       "ERROR: Timed out waiting for TensorBoard to start. It may still be running as pid 13132."
      ]
     },
     "metadata": {},
     "output_type": "display_data"
    }
   ],
   "source": [
    "%load_ext tensorboard\n",
    "%tensorboard --logdir './runs'"
   ]
  },
  {
   "cell_type": "markdown",
   "id": "5410f1de",
   "metadata": {},
   "source": [
    "### 4.2.4 Evaluation\n",
    "Output the prediction of the validation set as 1 if the similarity score exceeds a predefined threshold θ, and as 0 otherwise. Write a helper function to search for the optimal θ that maximizes the validation accuracy.\n",
    "\n",
    "**[Q6]** Report the optimal threshold θ and the corresponding validation accuracy.\n",
    "\n",
    "**[Q7]** Suppose you are given a photo application used to identify similar-looking family members and a face authentication application used for mobile banking. Should you set a relatively high or low threshold for each of the applications? Why?\n"
   ]
  },
  {
   "cell_type": "code",
   "execution_count": 9,
   "id": "3d0e58f4",
   "metadata": {},
   "outputs": [
    {
     "name": "stdout",
     "output_type": "stream",
     "text": [
      "Model loaded from net.pt, with val loss: 0.4668879707654317\n",
      "For threshold = 0.00, Accuracy = 64.0000\n",
      "For threshold = 0.05, Accuracy = 80.8743\n",
      "For threshold = 0.10, Accuracy = 84.2514\n",
      "For threshold = 0.15, Accuracy = 86.5200\n",
      "For threshold = 0.20, Accuracy = 87.8971\n",
      "For threshold = 0.25, Accuracy = 88.5543\n",
      "For threshold = 0.30, Accuracy = 89.0171\n",
      "For threshold = 0.35, Accuracy = 88.9429\n",
      "For threshold = 0.40, Accuracy = 89.0286\n",
      "For threshold = 0.45, Accuracy = 88.5886\n",
      "For threshold = 0.50, Accuracy = 88.6743\n",
      "For threshold = 0.55, Accuracy = 88.9657\n",
      "For threshold = 0.60, Accuracy = 86.6343\n",
      "For threshold = 0.65, Accuracy = 86.0229\n",
      "For threshold = 0.70, Accuracy = 84.1314\n",
      "For threshold = 0.75, Accuracy = 80.7771\n",
      "For threshold = 0.80, Accuracy = 77.1029\n",
      "For threshold = 0.85, Accuracy = 67.8686\n",
      "For threshold = 0.90, Accuracy = 59.8914\n",
      "For threshold = 0.95, Accuracy = 58.1714\n"
     ]
    }
   ],
   "source": [
    "load_checkpoint(save_path, model, optimizer)\n",
    "\n",
    "def find_threshold(net, valid_loader, device, threshold):\n",
    "    with torch.no_grad():\n",
    "        net.eval()\n",
    "        running_corrects = 0\n",
    "        for input1, input2, labels in valid_loader:\n",
    "\n",
    "            input1 = input1.to(device)\n",
    "            input2 = input2.to(device)\n",
    "            labels = labels.to(device)\n",
    "\n",
    "            outputs = net(input1,input2)\n",
    "            preds = (outputs > threshold)\n",
    "            running_corrects += torch.sum(preds == labels.data)\n",
    "            \n",
    "        valid_acc = running_corrects / float(len(valid_loader.dataset))\n",
    "    return valid_acc\n",
    "\n",
    "for threshold in range(0, 100, 5):\n",
    "    accuracy = find_threshold(model, valid_loader, device, threshold/100)\n",
    "    print('For threshold = {:.2f}, Accuracy = {:.4f}'.format(threshold/100, accuracy))"
   ]
  },
  {
   "cell_type": "markdown",
   "id": "1a1c7b98",
   "metadata": {},
   "source": [
    "### 4.2.5 Improving your Model\n",
    "Now, improve your model for better validation performance. You are required to make changes in at least two of the five categories (A-E) defined below. You may duplicate your previous code and modify it from there. Alternatively, you may also modify your previous code to accept new arguments for different configurations. Make sure that your changes are clearly shown in the code (e.g., you can put a comment like ‘# Q8A’ in your code to indicate the changes for category A) and do not overwrite your work for the previous tasks (Section 4.2.1 – 4.2.4). In addition to the changes listed below, you may make further changes to the model or training procedure to maximize the validation performance.\n",
    "\n",
    "**[Q8]** Describe your changes and compare the validation performance with the original setting. Discuss why the changes improve model performance. You are expected to use visual aids like a graph or a table to explain your answer.\n",
    "\n"
   ]
  },
  {
   "cell_type": "code",
   "execution_count": 10,
   "id": "e956caea",
   "metadata": {
    "scrolled": true,
    "tags": []
   },
   "outputs": [
    {
     "data": {
      "application/vnd.jupyter.widget-view+json": {
       "model_id": "8dd60a21cd2b4787aea9973512b5a000",
       "version_major": 2,
       "version_minor": 0
      },
      "text/plain": [
       "  0%|          | 0/39 [00:00<?, ?it/s]"
      ]
     },
     "metadata": {},
     "output_type": "display_data"
    },
    {
     "name": "stdout",
     "output_type": "stream",
     "text": [
      "Step 10, Training Loss: 0.6986, Validation Loss: 0.6920\n",
      "Model saved to modify_net1.pt\n",
      "Step 20, Training Loss: 0.6914, Validation Loss: 0.6925\n",
      "Step 30, Training Loss: 0.6880, Validation Loss: 0.6829\n",
      "Model saved to modify_net1.pt\n",
      "Epoch [1/15] finished\n"
     ]
    },
    {
     "data": {
      "application/vnd.jupyter.widget-view+json": {
       "model_id": "ca32616423844c86b636c70c2e4a8419",
       "version_major": 2,
       "version_minor": 0
      },
      "text/plain": [
       "  0%|          | 0/39 [00:00<?, ?it/s]"
      ]
     },
     "metadata": {},
     "output_type": "display_data"
    },
    {
     "name": "stdout",
     "output_type": "stream",
     "text": [
      "Step 40, Training Loss: 0.6816, Validation Loss: 0.6722\n",
      "Model saved to modify_net1.pt\n",
      "Step 50, Training Loss: 0.6860, Validation Loss: 0.6726\n",
      "Step 60, Training Loss: 0.6804, Validation Loss: 0.6675\n",
      "Model saved to modify_net1.pt\n",
      "Step 70, Training Loss: 0.6752, Validation Loss: 0.6653\n",
      "Model saved to modify_net1.pt\n",
      "Epoch [2/15] finished\n"
     ]
    },
    {
     "data": {
      "application/vnd.jupyter.widget-view+json": {
       "model_id": "a8b9a5886746498e80d25875fabe3d66",
       "version_major": 2,
       "version_minor": 0
      },
      "text/plain": [
       "  0%|          | 0/39 [00:00<?, ?it/s]"
      ]
     },
     "metadata": {},
     "output_type": "display_data"
    },
    {
     "name": "stdout",
     "output_type": "stream",
     "text": [
      "Step 80, Training Loss: 0.6764, Validation Loss: 0.6852\n",
      "Step 90, Training Loss: 0.6719, Validation Loss: 0.6515\n",
      "Model saved to modify_net1.pt\n",
      "Step 100, Training Loss: 0.6636, Validation Loss: 0.6414\n",
      "Model saved to modify_net1.pt\n",
      "Step 110, Training Loss: 0.6454, Validation Loss: 0.6419\n",
      "Epoch [3/15] finished\n"
     ]
    },
    {
     "data": {
      "application/vnd.jupyter.widget-view+json": {
       "model_id": "e49a19505fd24f9d84be23fdc58eb5f6",
       "version_major": 2,
       "version_minor": 0
      },
      "text/plain": [
       "  0%|          | 0/39 [00:00<?, ?it/s]"
      ]
     },
     "metadata": {},
     "output_type": "display_data"
    },
    {
     "name": "stdout",
     "output_type": "stream",
     "text": [
      "Step 120, Training Loss: 0.6365, Validation Loss: 0.6563\n",
      "Step 130, Training Loss: 0.6351, Validation Loss: 0.6438\n",
      "Step 140, Training Loss: 0.6264, Validation Loss: 0.6454\n",
      "Step 150, Training Loss: 0.6372, Validation Loss: 0.6101\n",
      "Model saved to modify_net1.pt\n",
      "Epoch [4/15] finished\n"
     ]
    },
    {
     "data": {
      "application/vnd.jupyter.widget-view+json": {
       "model_id": "124d0239df114aeb94680efe4f3cfac9",
       "version_major": 2,
       "version_minor": 0
      },
      "text/plain": [
       "  0%|          | 0/39 [00:00<?, ?it/s]"
      ]
     },
     "metadata": {},
     "output_type": "display_data"
    },
    {
     "name": "stdout",
     "output_type": "stream",
     "text": [
      "Step 160, Training Loss: 0.6236, Validation Loss: 0.6095\n",
      "Model saved to modify_net1.pt\n",
      "Step 170, Training Loss: 0.6010, Validation Loss: 0.5884\n",
      "Model saved to modify_net1.pt\n",
      "Step 180, Training Loss: 0.5861, Validation Loss: 0.5630\n",
      "Model saved to modify_net1.pt\n",
      "Step 190, Training Loss: 0.5955, Validation Loss: 0.5649\n",
      "Epoch [5/15] finished\n"
     ]
    },
    {
     "data": {
      "application/vnd.jupyter.widget-view+json": {
       "model_id": "d415901eacc948d8b55e916eb6bb9fd7",
       "version_major": 2,
       "version_minor": 0
      },
      "text/plain": [
       "  0%|          | 0/39 [00:00<?, ?it/s]"
      ]
     },
     "metadata": {},
     "output_type": "display_data"
    },
    {
     "name": "stdout",
     "output_type": "stream",
     "text": [
      "Step 200, Training Loss: 0.6171, Validation Loss: 0.5714\n",
      "Step 210, Training Loss: 0.5795, Validation Loss: 0.5654\n",
      "Step 220, Training Loss: 0.5599, Validation Loss: 0.5439\n",
      "Model saved to modify_net1.pt\n",
      "Step 230, Training Loss: 0.5533, Validation Loss: 0.5552\n",
      "Epoch [6/15] finished\n"
     ]
    },
    {
     "data": {
      "application/vnd.jupyter.widget-view+json": {
       "model_id": "4390153513af44729752c94ba1af31bd",
       "version_major": 2,
       "version_minor": 0
      },
      "text/plain": [
       "  0%|          | 0/39 [00:00<?, ?it/s]"
      ]
     },
     "metadata": {},
     "output_type": "display_data"
    },
    {
     "name": "stdout",
     "output_type": "stream",
     "text": [
      "Step 240, Training Loss: 0.5754, Validation Loss: 0.5590\n",
      "Step 250, Training Loss: 0.5335, Validation Loss: 0.5645\n",
      "Step 260, Training Loss: 0.5007, Validation Loss: 0.5166\n",
      "Model saved to modify_net1.pt\n",
      "Step 270, Training Loss: 0.5243, Validation Loss: 0.5547\n",
      "Epoch [7/15] finished\n"
     ]
    },
    {
     "data": {
      "application/vnd.jupyter.widget-view+json": {
       "model_id": "7280b0064edd41fb8a8a01ab0808b8a6",
       "version_major": 2,
       "version_minor": 0
      },
      "text/plain": [
       "  0%|          | 0/39 [00:00<?, ?it/s]"
      ]
     },
     "metadata": {},
     "output_type": "display_data"
    },
    {
     "name": "stdout",
     "output_type": "stream",
     "text": [
      "Step 280, Training Loss: 0.5500, Validation Loss: 0.5206\n",
      "Step 290, Training Loss: 0.5146, Validation Loss: 0.5212\n",
      "Step 300, Training Loss: 0.4930, Validation Loss: 0.5319\n",
      "Step 310, Training Loss: 0.4956, Validation Loss: 0.5289\n",
      "Epoch [8/15] finished\n"
     ]
    },
    {
     "data": {
      "application/vnd.jupyter.widget-view+json": {
       "model_id": "eb84400a0a2a40ee8a6cd8cbcd13ceb0",
       "version_major": 2,
       "version_minor": 0
      },
      "text/plain": [
       "  0%|          | 0/39 [00:00<?, ?it/s]"
      ]
     },
     "metadata": {},
     "output_type": "display_data"
    },
    {
     "name": "stdout",
     "output_type": "stream",
     "text": [
      "Step 320, Training Loss: 0.4406, Validation Loss: 0.5202\n",
      "Step 330, Training Loss: 0.4733, Validation Loss: 0.5220\n",
      "Step 340, Training Loss: 0.4613, Validation Loss: 0.5613\n",
      "Step 350, Training Loss: 0.4640, Validation Loss: 0.5058\n",
      "Model saved to modify_net1.pt\n",
      "Epoch [9/15] finished\n"
     ]
    },
    {
     "data": {
      "application/vnd.jupyter.widget-view+json": {
       "model_id": "edc830d927584f0a846d71563664e3b2",
       "version_major": 2,
       "version_minor": 0
      },
      "text/plain": [
       "  0%|          | 0/39 [00:00<?, ?it/s]"
      ]
     },
     "metadata": {},
     "output_type": "display_data"
    },
    {
     "name": "stdout",
     "output_type": "stream",
     "text": [
      "Step 360, Training Loss: 0.4276, Validation Loss: 0.4965\n",
      "Model saved to modify_net1.pt\n",
      "Step 370, Training Loss: 0.4302, Validation Loss: 0.5241\n",
      "Step 380, Training Loss: 0.4159, Validation Loss: 0.5144\n",
      "Step 390, Training Loss: 0.3814, Validation Loss: 0.4748\n",
      "Model saved to modify_net1.pt\n",
      "Epoch [10/15] finished\n"
     ]
    },
    {
     "data": {
      "application/vnd.jupyter.widget-view+json": {
       "model_id": "492b9f55c90b4d56b4795185074c14cc",
       "version_major": 2,
       "version_minor": 0
      },
      "text/plain": [
       "  0%|          | 0/39 [00:00<?, ?it/s]"
      ]
     },
     "metadata": {},
     "output_type": "display_data"
    },
    {
     "name": "stdout",
     "output_type": "stream",
     "text": [
      "Step 400, Training Loss: 0.3699, Validation Loss: 0.4949\n",
      "Step 410, Training Loss: 0.3394, Validation Loss: 0.5084\n",
      "Step 420, Training Loss: 0.3674, Validation Loss: 0.4926\n",
      "Epoch [11/15] finished\n"
     ]
    },
    {
     "data": {
      "application/vnd.jupyter.widget-view+json": {
       "model_id": "009532173f6d40529c0b9294c2e7d861",
       "version_major": 2,
       "version_minor": 0
      },
      "text/plain": [
       "  0%|          | 0/39 [00:00<?, ?it/s]"
      ]
     },
     "metadata": {},
     "output_type": "display_data"
    },
    {
     "name": "stdout",
     "output_type": "stream",
     "text": [
      "Step 430, Training Loss: 0.3843, Validation Loss: 0.4627\n",
      "Model saved to modify_net1.pt\n",
      "Step 440, Training Loss: 0.3157, Validation Loss: 0.4996\n",
      "Step 450, Training Loss: 0.3202, Validation Loss: 0.5319\n",
      "Step 460, Training Loss: 0.3605, Validation Loss: 0.4936\n",
      "Epoch [12/15] finished\n"
     ]
    },
    {
     "data": {
      "application/vnd.jupyter.widget-view+json": {
       "model_id": "422bc94dd98f47d0a7e120ba60052c1f",
       "version_major": 2,
       "version_minor": 0
      },
      "text/plain": [
       "  0%|          | 0/39 [00:00<?, ?it/s]"
      ]
     },
     "metadata": {},
     "output_type": "display_data"
    },
    {
     "name": "stdout",
     "output_type": "stream",
     "text": [
      "Step 470, Training Loss: 0.3250, Validation Loss: 0.5384\n",
      "Step 480, Training Loss: 0.2756, Validation Loss: 0.5235\n",
      "Step 490, Training Loss: 0.2552, Validation Loss: 0.5002\n",
      "Step 500, Training Loss: 0.2520, Validation Loss: 0.5275\n",
      "Epoch [13/15] finished\n"
     ]
    },
    {
     "data": {
      "application/vnd.jupyter.widget-view+json": {
       "model_id": "c98e2e76042c46289caf1c53559ee63e",
       "version_major": 2,
       "version_minor": 0
      },
      "text/plain": [
       "  0%|          | 0/39 [00:00<?, ?it/s]"
      ]
     },
     "metadata": {},
     "output_type": "display_data"
    },
    {
     "name": "stdout",
     "output_type": "stream",
     "text": [
      "Step 510, Training Loss: 0.2923, Validation Loss: 0.5028\n",
      "Step 520, Training Loss: 0.2443, Validation Loss: 0.5356\n",
      "Step 530, Training Loss: 0.2297, Validation Loss: 0.5341\n",
      "Step 540, Training Loss: 0.2348, Validation Loss: 0.5258\n",
      "Epoch [14/15] finished\n"
     ]
    },
    {
     "data": {
      "application/vnd.jupyter.widget-view+json": {
       "model_id": "243b217e400541a0904b83a829497b50",
       "version_major": 2,
       "version_minor": 0
      },
      "text/plain": [
       "  0%|          | 0/39 [00:00<?, ?it/s]"
      ]
     },
     "metadata": {},
     "output_type": "display_data"
    },
    {
     "name": "stdout",
     "output_type": "stream",
     "text": [
      "Step 550, Training Loss: 0.2069, Validation Loss: 0.5270\n",
      "Step 560, Training Loss: 0.1804, Validation Loss: 0.4978\n",
      "Step 570, Training Loss: 0.1786, Validation Loss: 0.6109\n",
      "Step 580, Training Loss: 0.1770, Validation Loss: 0.5933\n",
      "Epoch [15/15] finished\n",
      "Finished Training\n"
     ]
    }
   ],
   "source": [
    "# Q8A: Optimization\n",
    "\n",
    "modified_model1 = Net().cuda()\n",
    "modified_model1 = modified_model1.to(device)\n",
    "\n",
    "# First set of parameters: 15 epoch, 0.0005 learning rate\n",
    "modified_num_epochs = 15\n",
    "modified_optimizer = optim.Adam(modified_model1.parameters(), lr=0.0005, weight_decay=0)\n",
    "\n",
    "best_val_loss = None\n",
    "criterion = nn.BCELoss()\n",
    "save_path1 = f'modify_net1.pt'\n",
    "modify_writer1 = SummaryWriter(os.path.join(PATH, 'runs/hr1'))\n",
    "\n",
    "TRAIN(modified_model1, train_loader, valid_loader, modified_num_epochs, criterion, modified_optimizer, best_val_loss, device, save_path1, modify_writer1)"
   ]
  },
  {
   "cell_type": "code",
   "execution_count": 11,
   "id": "34ffaacf",
   "metadata": {},
   "outputs": [
    {
     "name": "stdout",
     "output_type": "stream",
     "text": [
      "Model loaded from modify_net1.pt, with val loss: 0.46266648670037586\n",
      "For threshold = 0.00, Accuracy = 64.0000\n",
      "For threshold = 0.05, Accuracy = 86.4343\n",
      "For threshold = 0.10, Accuracy = 88.6057\n",
      "For threshold = 0.15, Accuracy = 90.1771\n",
      "For threshold = 0.20, Accuracy = 91.2743\n",
      "For threshold = 0.25, Accuracy = 91.1886\n",
      "For threshold = 0.30, Accuracy = 91.7371\n",
      "For threshold = 0.35, Accuracy = 91.4800\n",
      "For threshold = 0.40, Accuracy = 92.4800\n",
      "For threshold = 0.45, Accuracy = 91.4800\n",
      "For threshold = 0.50, Accuracy = 91.5886\n",
      "For threshold = 0.55, Accuracy = 89.7200\n",
      "For threshold = 0.60, Accuracy = 87.7429\n",
      "For threshold = 0.65, Accuracy = 85.2171\n",
      "For threshold = 0.70, Accuracy = 82.8857\n",
      "For threshold = 0.75, Accuracy = 77.9086\n",
      "For threshold = 0.80, Accuracy = 73.6743\n",
      "For threshold = 0.85, Accuracy = 69.4286\n",
      "For threshold = 0.90, Accuracy = 63.3314\n",
      "For threshold = 0.95, Accuracy = 59.5486\n"
     ]
    }
   ],
   "source": [
    "# Accuracy calculation for first set of parameters\n",
    "load_checkpoint(save_path1, modified_model1, optimizer)\n",
    "for threshold in range(0, 100, 5):\n",
    "    accuracy = find_threshold(modified_model1, valid_loader, device, threshold/100)\n",
    "    print('For threshold = {:.2f}, Accuracy = {:.4f}'.format(threshold/100, accuracy))"
   ]
  },
  {
   "cell_type": "code",
   "execution_count": 12,
   "id": "55589fe7",
   "metadata": {
    "scrolled": true,
    "tags": []
   },
   "outputs": [
    {
     "data": {
      "application/vnd.jupyter.widget-view+json": {
       "model_id": "e1a92345fbf54814add542f4fb97656d",
       "version_major": 2,
       "version_minor": 0
      },
      "text/plain": [
       "  0%|          | 0/39 [00:00<?, ?it/s]"
      ]
     },
     "metadata": {},
     "output_type": "display_data"
    },
    {
     "name": "stdout",
     "output_type": "stream",
     "text": [
      "Step 10, Training Loss: 0.7537, Validation Loss: 0.6926\n",
      "Model saved to modify_net2.pt\n",
      "Step 20, Training Loss: 0.6990, Validation Loss: 0.6896\n",
      "Model saved to modify_net2.pt\n",
      "Step 30, Training Loss: 0.7008, Validation Loss: 0.6769\n",
      "Model saved to modify_net2.pt\n",
      "Epoch [1/15] finished\n"
     ]
    },
    {
     "data": {
      "application/vnd.jupyter.widget-view+json": {
       "model_id": "c274146ff3d640938d19b0683bf90dec",
       "version_major": 2,
       "version_minor": 0
      },
      "text/plain": [
       "  0%|          | 0/39 [00:00<?, ?it/s]"
      ]
     },
     "metadata": {},
     "output_type": "display_data"
    },
    {
     "name": "stdout",
     "output_type": "stream",
     "text": [
      "Step 40, Training Loss: 0.6859, Validation Loss: 0.6738\n",
      "Model saved to modify_net2.pt\n",
      "Step 50, Training Loss: 0.6836, Validation Loss: 0.6879\n",
      "Step 60, Training Loss: 0.6859, Validation Loss: 0.6591\n",
      "Model saved to modify_net2.pt\n",
      "Step 70, Training Loss: 0.6817, Validation Loss: 0.6719\n",
      "Epoch [2/15] finished\n"
     ]
    },
    {
     "data": {
      "application/vnd.jupyter.widget-view+json": {
       "model_id": "7af9bc44517b4162a32e51b61b00c2f8",
       "version_major": 2,
       "version_minor": 0
      },
      "text/plain": [
       "  0%|          | 0/39 [00:00<?, ?it/s]"
      ]
     },
     "metadata": {},
     "output_type": "display_data"
    },
    {
     "name": "stdout",
     "output_type": "stream",
     "text": [
      "Step 80, Training Loss: 0.6729, Validation Loss: 0.6605\n",
      "Step 90, Training Loss: 0.6565, Validation Loss: 0.6404\n",
      "Model saved to modify_net2.pt\n",
      "Step 100, Training Loss: 0.6454, Validation Loss: 0.6530\n",
      "Step 110, Training Loss: 0.6481, Validation Loss: 0.6150\n",
      "Model saved to modify_net2.pt\n",
      "Epoch [3/15] finished\n"
     ]
    },
    {
     "data": {
      "application/vnd.jupyter.widget-view+json": {
       "model_id": "2e179bee0f914b67b09becb49da32d5d",
       "version_major": 2,
       "version_minor": 0
      },
      "text/plain": [
       "  0%|          | 0/39 [00:00<?, ?it/s]"
      ]
     },
     "metadata": {},
     "output_type": "display_data"
    },
    {
     "name": "stdout",
     "output_type": "stream",
     "text": [
      "Step 120, Training Loss: 0.6531, Validation Loss: 0.7021\n",
      "Step 130, Training Loss: 0.6748, Validation Loss: 0.6345\n",
      "Step 140, Training Loss: 0.6281, Validation Loss: 0.6136\n",
      "Model saved to modify_net2.pt\n",
      "Step 150, Training Loss: 0.6359, Validation Loss: 0.6063\n",
      "Model saved to modify_net2.pt\n",
      "Epoch [4/15] finished\n"
     ]
    },
    {
     "data": {
      "application/vnd.jupyter.widget-view+json": {
       "model_id": "fe41ac9ac9ba4b52b1f6c0cd1978899b",
       "version_major": 2,
       "version_minor": 0
      },
      "text/plain": [
       "  0%|          | 0/39 [00:00<?, ?it/s]"
      ]
     },
     "metadata": {},
     "output_type": "display_data"
    },
    {
     "name": "stdout",
     "output_type": "stream",
     "text": [
      "Step 160, Training Loss: 0.6340, Validation Loss: 0.6149\n",
      "Step 170, Training Loss: 0.6100, Validation Loss: 0.6323\n",
      "Step 180, Training Loss: 0.6176, Validation Loss: 0.6103\n",
      "Step 190, Training Loss: 0.5957, Validation Loss: 0.5997\n",
      "Model saved to modify_net2.pt\n",
      "Epoch [5/15] finished\n"
     ]
    },
    {
     "data": {
      "application/vnd.jupyter.widget-view+json": {
       "model_id": "13c3ff685bde4dda8e7e371c79ddc97b",
       "version_major": 2,
       "version_minor": 0
      },
      "text/plain": [
       "  0%|          | 0/39 [00:00<?, ?it/s]"
      ]
     },
     "metadata": {},
     "output_type": "display_data"
    },
    {
     "name": "stdout",
     "output_type": "stream",
     "text": [
      "Step 200, Training Loss: 0.6020, Validation Loss: 0.5927\n",
      "Model saved to modify_net2.pt\n",
      "Step 210, Training Loss: 0.6045, Validation Loss: 0.5949\n",
      "Step 220, Training Loss: 0.5929, Validation Loss: 0.5923\n",
      "Model saved to modify_net2.pt\n",
      "Step 230, Training Loss: 0.5886, Validation Loss: 0.5886\n",
      "Model saved to modify_net2.pt\n",
      "Epoch [6/15] finished\n"
     ]
    },
    {
     "data": {
      "application/vnd.jupyter.widget-view+json": {
       "model_id": "67066bb8ae2749ea938e8bbc4f774af7",
       "version_major": 2,
       "version_minor": 0
      },
      "text/plain": [
       "  0%|          | 0/39 [00:00<?, ?it/s]"
      ]
     },
     "metadata": {},
     "output_type": "display_data"
    },
    {
     "name": "stdout",
     "output_type": "stream",
     "text": [
      "Step 240, Training Loss: 0.5764, Validation Loss: 0.5889\n",
      "Step 250, Training Loss: 0.5856, Validation Loss: 0.5854\n",
      "Model saved to modify_net2.pt\n",
      "Step 260, Training Loss: 0.5522, Validation Loss: 0.5874\n",
      "Step 270, Training Loss: 0.5770, Validation Loss: 0.6133\n",
      "Epoch [7/15] finished\n"
     ]
    },
    {
     "data": {
      "application/vnd.jupyter.widget-view+json": {
       "model_id": "e0816671d37b4220a26b4814183e6194",
       "version_major": 2,
       "version_minor": 0
      },
      "text/plain": [
       "  0%|          | 0/39 [00:00<?, ?it/s]"
      ]
     },
     "metadata": {},
     "output_type": "display_data"
    },
    {
     "name": "stdout",
     "output_type": "stream",
     "text": [
      "Step 280, Training Loss: 0.6004, Validation Loss: 0.5630\n",
      "Model saved to modify_net2.pt\n",
      "Step 290, Training Loss: 0.5468, Validation Loss: 0.5659\n",
      "Step 300, Training Loss: 0.5548, Validation Loss: 0.5584\n",
      "Model saved to modify_net2.pt\n",
      "Step 310, Training Loss: 0.5464, Validation Loss: 0.5971\n",
      "Epoch [8/15] finished\n"
     ]
    },
    {
     "data": {
      "application/vnd.jupyter.widget-view+json": {
       "model_id": "b7599462557a4091a7b229fc14ee1921",
       "version_major": 2,
       "version_minor": 0
      },
      "text/plain": [
       "  0%|          | 0/39 [00:00<?, ?it/s]"
      ]
     },
     "metadata": {},
     "output_type": "display_data"
    },
    {
     "name": "stdout",
     "output_type": "stream",
     "text": [
      "Step 320, Training Loss: 0.5605, Validation Loss: 0.5539\n",
      "Model saved to modify_net2.pt\n",
      "Step 330, Training Loss: 0.5453, Validation Loss: 0.5817\n",
      "Step 340, Training Loss: 0.5489, Validation Loss: 0.5523\n",
      "Model saved to modify_net2.pt\n",
      "Step 350, Training Loss: 0.5157, Validation Loss: 0.5504\n",
      "Model saved to modify_net2.pt\n",
      "Epoch [9/15] finished\n"
     ]
    },
    {
     "data": {
      "application/vnd.jupyter.widget-view+json": {
       "model_id": "dc37d6d71f2e41c0a8f0ecbbb5efa6b9",
       "version_major": 2,
       "version_minor": 0
      },
      "text/plain": [
       "  0%|          | 0/39 [00:00<?, ?it/s]"
      ]
     },
     "metadata": {},
     "output_type": "display_data"
    },
    {
     "name": "stdout",
     "output_type": "stream",
     "text": [
      "Step 360, Training Loss: 0.5338, Validation Loss: 0.5498\n",
      "Model saved to modify_net2.pt\n",
      "Step 370, Training Loss: 0.4962, Validation Loss: 0.5506\n",
      "Step 380, Training Loss: 0.5200, Validation Loss: 0.5618\n",
      "Step 390, Training Loss: 0.4940, Validation Loss: 0.5183\n",
      "Model saved to modify_net2.pt\n",
      "Epoch [10/15] finished\n"
     ]
    },
    {
     "data": {
      "application/vnd.jupyter.widget-view+json": {
       "model_id": "e6b8fa6e54ae48e4b3d3a6ff4526c53e",
       "version_major": 2,
       "version_minor": 0
      },
      "text/plain": [
       "  0%|          | 0/39 [00:00<?, ?it/s]"
      ]
     },
     "metadata": {},
     "output_type": "display_data"
    },
    {
     "name": "stdout",
     "output_type": "stream",
     "text": [
      "Step 400, Training Loss: 0.4578, Validation Loss: 0.5446\n",
      "Step 410, Training Loss: 0.4818, Validation Loss: 0.5386\n",
      "Step 420, Training Loss: 0.4781, Validation Loss: 0.4933\n",
      "Model saved to modify_net2.pt\n",
      "Epoch [11/15] finished\n"
     ]
    },
    {
     "data": {
      "application/vnd.jupyter.widget-view+json": {
       "model_id": "da608f3564ac4b8e9f18d9bca9f1d16d",
       "version_major": 2,
       "version_minor": 0
      },
      "text/plain": [
       "  0%|          | 0/39 [00:00<?, ?it/s]"
      ]
     },
     "metadata": {},
     "output_type": "display_data"
    },
    {
     "name": "stdout",
     "output_type": "stream",
     "text": [
      "Step 430, Training Loss: 0.4984, Validation Loss: 0.5204\n",
      "Step 440, Training Loss: 0.4408, Validation Loss: 0.5111\n",
      "Step 450, Training Loss: 0.4399, Validation Loss: 0.5033\n",
      "Step 460, Training Loss: 0.4092, Validation Loss: 0.5121\n",
      "Epoch [12/15] finished\n"
     ]
    },
    {
     "data": {
      "application/vnd.jupyter.widget-view+json": {
       "model_id": "d629e9ba800f49d8aa47f730181870c4",
       "version_major": 2,
       "version_minor": 0
      },
      "text/plain": [
       "  0%|          | 0/39 [00:00<?, ?it/s]"
      ]
     },
     "metadata": {},
     "output_type": "display_data"
    },
    {
     "name": "stdout",
     "output_type": "stream",
     "text": [
      "Step 470, Training Loss: 0.4454, Validation Loss: 0.5673\n",
      "Step 480, Training Loss: 0.4076, Validation Loss: 0.5110\n",
      "Step 490, Training Loss: 0.4173, Validation Loss: 0.5048\n",
      "Step 500, Training Loss: 0.4056, Validation Loss: 0.4795\n",
      "Model saved to modify_net2.pt\n",
      "Epoch [13/15] finished\n"
     ]
    },
    {
     "data": {
      "application/vnd.jupyter.widget-view+json": {
       "model_id": "b017158aa41846a4832cac9003a7b013",
       "version_major": 2,
       "version_minor": 0
      },
      "text/plain": [
       "  0%|          | 0/39 [00:00<?, ?it/s]"
      ]
     },
     "metadata": {},
     "output_type": "display_data"
    },
    {
     "name": "stdout",
     "output_type": "stream",
     "text": [
      "Step 510, Training Loss: 0.3763, Validation Loss: 0.4812\n",
      "Step 520, Training Loss: 0.3398, Validation Loss: 0.4999\n",
      "Step 530, Training Loss: 0.3415, Validation Loss: 0.4813\n",
      "Step 540, Training Loss: 0.3334, Validation Loss: 0.4814\n",
      "Epoch [14/15] finished\n"
     ]
    },
    {
     "data": {
      "application/vnd.jupyter.widget-view+json": {
       "model_id": "ab02e7483d314489bf168842b2578fb4",
       "version_major": 2,
       "version_minor": 0
      },
      "text/plain": [
       "  0%|          | 0/39 [00:00<?, ?it/s]"
      ]
     },
     "metadata": {},
     "output_type": "display_data"
    },
    {
     "name": "stdout",
     "output_type": "stream",
     "text": [
      "Step 550, Training Loss: 0.3231, Validation Loss: 0.4717\n",
      "Model saved to modify_net2.pt\n",
      "Step 560, Training Loss: 0.2822, Validation Loss: 0.5439\n",
      "Step 570, Training Loss: 0.3352, Validation Loss: 0.5332\n",
      "Step 580, Training Loss: 0.3188, Validation Loss: 0.5513\n",
      "Epoch [15/15] finished\n",
      "Finished Training\n"
     ]
    }
   ],
   "source": [
    "# Second set of parameters: 15 epoch, 0.002 learning rate\n",
    "\n",
    "modified_model2 = Net().cuda()\n",
    "modified_model2 = modified_model2.to(device)\n",
    "\n",
    "modified_num_epochs = 15\n",
    "modified_optimizer = optim.Adam(modified_model2.parameters(), lr=0.002)\n",
    "modify_writer2 = SummaryWriter(os.path.join(PATH, 'runs/hr2'))\n",
    "save_path2 = f'modify_net2.pt'\n",
    "\n",
    "TRAIN(modified_model2, train_loader, valid_loader, modified_num_epochs, criterion, modified_optimizer, best_val_loss, device, save_path2, modify_writer2)"
   ]
  },
  {
   "cell_type": "code",
   "execution_count": 13,
   "id": "907e760c",
   "metadata": {},
   "outputs": [
    {
     "name": "stdout",
     "output_type": "stream",
     "text": [
      "Model loaded from modify_net2.pt, with val loss: 0.47173341115315753\n",
      "For threshold = 0.00, Accuracy = 64.0000\n",
      "For threshold = 0.05, Accuracy = 83.1771\n",
      "For threshold = 0.10, Accuracy = 87.1771\n",
      "For threshold = 0.15, Accuracy = 88.5543\n",
      "For threshold = 0.20, Accuracy = 89.7257\n",
      "For threshold = 0.25, Accuracy = 90.4571\n",
      "For threshold = 0.30, Accuracy = 90.3829\n",
      "For threshold = 0.35, Accuracy = 91.7486\n",
      "For threshold = 0.40, Accuracy = 91.2971\n",
      "For threshold = 0.45, Accuracy = 91.0286\n",
      "For threshold = 0.50, Accuracy = 90.2114\n",
      "For threshold = 0.55, Accuracy = 89.3829\n",
      "For threshold = 0.60, Accuracy = 88.7086\n",
      "For threshold = 0.65, Accuracy = 87.5486\n",
      "For threshold = 0.70, Accuracy = 86.9143\n",
      "For threshold = 0.75, Accuracy = 84.1314\n",
      "For threshold = 0.80, Accuracy = 81.7886\n",
      "For threshold = 0.85, Accuracy = 77.3714\n",
      "For threshold = 0.90, Accuracy = 72.1371\n",
      "For threshold = 0.95, Accuracy = 61.8914\n"
     ]
    }
   ],
   "source": [
    "# Accuracy calculation for second set of parameters\n",
    "load_checkpoint(save_path2, modified_model2, optimizer)\n",
    "for threshold in range(0, 100, 5):\n",
    "    accuracy = find_threshold(modified_model2, valid_loader, device, threshold/100)\n",
    "    print('For threshold = {:.2f}, Accuracy = {:.4f}'.format(threshold/100, accuracy))"
   ]
  },
  {
   "cell_type": "code",
   "execution_count": 14,
   "id": "acdf977a",
   "metadata": {
    "scrolled": true,
    "tags": []
   },
   "outputs": [
    {
     "data": {
      "application/vnd.jupyter.widget-view+json": {
       "model_id": "58511653ee4040fa922361b510c528fc",
       "version_major": 2,
       "version_minor": 0
      },
      "text/plain": [
       "  0%|          | 0/39 [00:00<?, ?it/s]"
      ]
     },
     "metadata": {},
     "output_type": "display_data"
    },
    {
     "name": "stdout",
     "output_type": "stream",
     "text": [
      "Step 10, Training Loss: 0.6970, Validation Loss: 0.6884\n",
      "Model saved to modify_net3.pt\n",
      "Step 20, Training Loss: 0.6954, Validation Loss: 0.6823\n",
      "Model saved to modify_net3.pt\n",
      "Step 30, Training Loss: 0.6887, Validation Loss: 0.6845\n",
      "Epoch [1/15] finished\n"
     ]
    },
    {
     "data": {
      "application/vnd.jupyter.widget-view+json": {
       "model_id": "decf1b47f5a641fca2b029a0b2d0f4e4",
       "version_major": 2,
       "version_minor": 0
      },
      "text/plain": [
       "  0%|          | 0/39 [00:00<?, ?it/s]"
      ]
     },
     "metadata": {},
     "output_type": "display_data"
    },
    {
     "name": "stdout",
     "output_type": "stream",
     "text": [
      "Step 40, Training Loss: 0.6863, Validation Loss: 0.6753\n",
      "Model saved to modify_net3.pt\n",
      "Step 50, Training Loss: 0.6861, Validation Loss: 0.6756\n",
      "Step 60, Training Loss: 0.6817, Validation Loss: 0.6667\n",
      "Model saved to modify_net3.pt\n",
      "Step 70, Training Loss: 0.6654, Validation Loss: 0.6562\n",
      "Model saved to modify_net3.pt\n",
      "Epoch [2/15] finished\n"
     ]
    },
    {
     "data": {
      "application/vnd.jupyter.widget-view+json": {
       "model_id": "382488f08f824e74b1b3f4ff96e54ea0",
       "version_major": 2,
       "version_minor": 0
      },
      "text/plain": [
       "  0%|          | 0/39 [00:00<?, ?it/s]"
      ]
     },
     "metadata": {},
     "output_type": "display_data"
    },
    {
     "name": "stdout",
     "output_type": "stream",
     "text": [
      "Step 80, Training Loss: 0.6826, Validation Loss: 0.6848\n",
      "Step 90, Training Loss: 0.6761, Validation Loss: 0.6979\n",
      "Step 100, Training Loss: 0.6597, Validation Loss: 0.6391\n",
      "Model saved to modify_net3.pt\n",
      "Step 110, Training Loss: 0.6434, Validation Loss: 0.6362\n",
      "Model saved to modify_net3.pt\n",
      "Epoch [3/15] finished\n"
     ]
    },
    {
     "data": {
      "application/vnd.jupyter.widget-view+json": {
       "model_id": "4dc9b25be76c46248f847fa2a2ef1e9f",
       "version_major": 2,
       "version_minor": 0
      },
      "text/plain": [
       "  0%|          | 0/39 [00:00<?, ?it/s]"
      ]
     },
     "metadata": {},
     "output_type": "display_data"
    },
    {
     "name": "stdout",
     "output_type": "stream",
     "text": [
      "Step 120, Training Loss: 0.6631, Validation Loss: 0.6353\n",
      "Model saved to modify_net3.pt\n",
      "Step 130, Training Loss: 0.6453, Validation Loss: 0.6464\n",
      "Step 140, Training Loss: 0.6305, Validation Loss: 0.6296\n",
      "Model saved to modify_net3.pt\n",
      "Step 150, Training Loss: 0.6216, Validation Loss: 0.6014\n",
      "Model saved to modify_net3.pt\n",
      "Epoch [4/15] finished\n"
     ]
    },
    {
     "data": {
      "application/vnd.jupyter.widget-view+json": {
       "model_id": "acd6c440821643a9bdc1264108237324",
       "version_major": 2,
       "version_minor": 0
      },
      "text/plain": [
       "  0%|          | 0/39 [00:00<?, ?it/s]"
      ]
     },
     "metadata": {},
     "output_type": "display_data"
    },
    {
     "name": "stdout",
     "output_type": "stream",
     "text": [
      "Step 160, Training Loss: 0.6478, Validation Loss: 0.6573\n",
      "Step 170, Training Loss: 0.6200, Validation Loss: 0.6136\n",
      "Step 180, Training Loss: 0.6116, Validation Loss: 0.5848\n",
      "Model saved to modify_net3.pt\n",
      "Step 190, Training Loss: 0.5817, Validation Loss: 0.5638\n",
      "Model saved to modify_net3.pt\n",
      "Epoch [5/15] finished\n"
     ]
    },
    {
     "data": {
      "application/vnd.jupyter.widget-view+json": {
       "model_id": "76c63ff68f3642799c46615b3e37e8b0",
       "version_major": 2,
       "version_minor": 0
      },
      "text/plain": [
       "  0%|          | 0/39 [00:00<?, ?it/s]"
      ]
     },
     "metadata": {},
     "output_type": "display_data"
    },
    {
     "name": "stdout",
     "output_type": "stream",
     "text": [
      "Step 200, Training Loss: 0.6289, Validation Loss: 0.5884\n",
      "Step 210, Training Loss: 0.5961, Validation Loss: 0.5681\n",
      "Step 220, Training Loss: 0.5820, Validation Loss: 0.5591\n",
      "Model saved to modify_net3.pt\n",
      "Step 230, Training Loss: 0.5545, Validation Loss: 0.5450\n",
      "Model saved to modify_net3.pt\n",
      "Epoch [6/15] finished\n"
     ]
    },
    {
     "data": {
      "application/vnd.jupyter.widget-view+json": {
       "model_id": "711a693bedca447984664cd478b21699",
       "version_major": 2,
       "version_minor": 0
      },
      "text/plain": [
       "  0%|          | 0/39 [00:00<?, ?it/s]"
      ]
     },
     "metadata": {},
     "output_type": "display_data"
    },
    {
     "name": "stdout",
     "output_type": "stream",
     "text": [
      "Step 240, Training Loss: 0.5714, Validation Loss: 0.6020\n",
      "Step 250, Training Loss: 0.5680, Validation Loss: 0.5956\n",
      "Step 260, Training Loss: 0.5692, Validation Loss: 0.5582\n",
      "Step 270, Training Loss: 0.5393, Validation Loss: 0.5431\n",
      "Model saved to modify_net3.pt\n",
      "Epoch [7/15] finished\n"
     ]
    },
    {
     "data": {
      "application/vnd.jupyter.widget-view+json": {
       "model_id": "f537ba133a63482dbb359a0cc348304b",
       "version_major": 2,
       "version_minor": 0
      },
      "text/plain": [
       "  0%|          | 0/39 [00:00<?, ?it/s]"
      ]
     },
     "metadata": {},
     "output_type": "display_data"
    },
    {
     "name": "stdout",
     "output_type": "stream",
     "text": [
      "Step 280, Training Loss: 0.5699, Validation Loss: 0.5638\n",
      "Step 290, Training Loss: 0.5454, Validation Loss: 0.5410\n",
      "Model saved to modify_net3.pt\n",
      "Step 300, Training Loss: 0.5167, Validation Loss: 0.5429\n",
      "Step 310, Training Loss: 0.5395, Validation Loss: 0.5279\n",
      "Model saved to modify_net3.pt\n",
      "Epoch [8/15] finished\n"
     ]
    },
    {
     "data": {
      "application/vnd.jupyter.widget-view+json": {
       "model_id": "9f0731ae070a4fe4b8f1ea87debdb079",
       "version_major": 2,
       "version_minor": 0
      },
      "text/plain": [
       "  0%|          | 0/39 [00:00<?, ?it/s]"
      ]
     },
     "metadata": {},
     "output_type": "display_data"
    },
    {
     "name": "stdout",
     "output_type": "stream",
     "text": [
      "Step 320, Training Loss: 0.5191, Validation Loss: 0.5397\n",
      "Step 330, Training Loss: 0.5091, Validation Loss: 0.5351\n",
      "Step 340, Training Loss: 0.5139, Validation Loss: 0.5219\n",
      "Model saved to modify_net3.pt\n",
      "Step 350, Training Loss: 0.5056, Validation Loss: 0.5039\n",
      "Model saved to modify_net3.pt\n",
      "Epoch [9/15] finished\n"
     ]
    },
    {
     "data": {
      "application/vnd.jupyter.widget-view+json": {
       "model_id": "3200879ab7d349b29cbb63b9b6057063",
       "version_major": 2,
       "version_minor": 0
      },
      "text/plain": [
       "  0%|          | 0/39 [00:00<?, ?it/s]"
      ]
     },
     "metadata": {},
     "output_type": "display_data"
    },
    {
     "name": "stdout",
     "output_type": "stream",
     "text": [
      "Step 360, Training Loss: 0.5053, Validation Loss: 0.5364\n",
      "Step 370, Training Loss: 0.4949, Validation Loss: 0.5349\n",
      "Step 380, Training Loss: 0.4742, Validation Loss: 0.5118\n",
      "Step 390, Training Loss: 0.4928, Validation Loss: 0.4979\n",
      "Model saved to modify_net3.pt\n",
      "Epoch [10/15] finished\n"
     ]
    },
    {
     "data": {
      "application/vnd.jupyter.widget-view+json": {
       "model_id": "561c3812ecc74e76b0bf410e73745131",
       "version_major": 2,
       "version_minor": 0
      },
      "text/plain": [
       "  0%|          | 0/39 [00:00<?, ?it/s]"
      ]
     },
     "metadata": {},
     "output_type": "display_data"
    },
    {
     "name": "stdout",
     "output_type": "stream",
     "text": [
      "Step 400, Training Loss: 0.4760, Validation Loss: 0.4996\n",
      "Step 410, Training Loss: 0.4477, Validation Loss: 0.4809\n",
      "Model saved to modify_net3.pt\n",
      "Step 420, Training Loss: 0.4241, Validation Loss: 0.4808\n",
      "Model saved to modify_net3.pt\n",
      "Epoch [11/15] finished\n"
     ]
    },
    {
     "data": {
      "application/vnd.jupyter.widget-view+json": {
       "model_id": "f478f621798a4dc796384f7425149303",
       "version_major": 2,
       "version_minor": 0
      },
      "text/plain": [
       "  0%|          | 0/39 [00:00<?, ?it/s]"
      ]
     },
     "metadata": {},
     "output_type": "display_data"
    },
    {
     "name": "stdout",
     "output_type": "stream",
     "text": [
      "Step 430, Training Loss: 0.4164, Validation Loss: 0.5131\n",
      "Step 440, Training Loss: 0.3988, Validation Loss: 0.4749\n",
      "Model saved to modify_net3.pt\n",
      "Step 450, Training Loss: 0.3871, Validation Loss: 0.5002\n",
      "Step 460, Training Loss: 0.4177, Validation Loss: 0.4883\n",
      "Epoch [12/15] finished\n"
     ]
    },
    {
     "data": {
      "application/vnd.jupyter.widget-view+json": {
       "model_id": "adb2e323aa754ae886da9065c093717f",
       "version_major": 2,
       "version_minor": 0
      },
      "text/plain": [
       "  0%|          | 0/39 [00:00<?, ?it/s]"
      ]
     },
     "metadata": {},
     "output_type": "display_data"
    },
    {
     "name": "stdout",
     "output_type": "stream",
     "text": [
      "Step 470, Training Loss: 0.4160, Validation Loss: 0.4950\n",
      "Step 480, Training Loss: 0.3791, Validation Loss: 0.4760\n",
      "Step 490, Training Loss: 0.3411, Validation Loss: 0.5015\n",
      "Step 500, Training Loss: 0.3295, Validation Loss: 0.5386\n",
      "Epoch [13/15] finished\n"
     ]
    },
    {
     "data": {
      "application/vnd.jupyter.widget-view+json": {
       "model_id": "80f6df2afee64f738ec3114eb020b1db",
       "version_major": 2,
       "version_minor": 0
      },
      "text/plain": [
       "  0%|          | 0/39 [00:00<?, ?it/s]"
      ]
     },
     "metadata": {},
     "output_type": "display_data"
    },
    {
     "name": "stdout",
     "output_type": "stream",
     "text": [
      "Step 510, Training Loss: 0.3543, Validation Loss: 0.4941\n",
      "Step 520, Training Loss: 0.3078, Validation Loss: 0.4894\n",
      "Step 530, Training Loss: 0.3117, Validation Loss: 0.5058\n",
      "Step 540, Training Loss: 0.3166, Validation Loss: 0.5059\n",
      "Epoch [14/15] finished\n"
     ]
    },
    {
     "data": {
      "application/vnd.jupyter.widget-view+json": {
       "model_id": "3d8b0265f35b4cb085de43e54a27959b",
       "version_major": 2,
       "version_minor": 0
      },
      "text/plain": [
       "  0%|          | 0/39 [00:00<?, ?it/s]"
      ]
     },
     "metadata": {},
     "output_type": "display_data"
    },
    {
     "name": "stdout",
     "output_type": "stream",
     "text": [
      "Step 550, Training Loss: 0.3108, Validation Loss: 0.5191\n",
      "Step 560, Training Loss: 0.2808, Validation Loss: 0.5213\n",
      "Step 570, Training Loss: 0.2688, Validation Loss: 0.5108\n",
      "Step 580, Training Loss: 0.2498, Validation Loss: 0.5041\n",
      "Epoch [15/15] finished\n",
      "Finished Training\n"
     ]
    }
   ],
   "source": [
    "# Third set of parameters: 15 epoch, 0.00075 learning rate\n",
    "\n",
    "modified_model3 = Net().cuda()\n",
    "modified_model3 = modified_model3.to(device)\n",
    "\n",
    "modified_num_epochs = 15\n",
    "modified_optimizer = optim.Adam(modified_model3.parameters(), lr=0.00075)\n",
    "modify_writer3 = SummaryWriter(os.path.join(PATH, 'runs/hr3'))\n",
    "save_path3 = f'modify_net3.pt'\n",
    "\n",
    "TRAIN(modified_model3, train_loader, valid_loader, modified_num_epochs, criterion, modified_optimizer, best_val_loss, device, save_path3, modify_writer3)"
   ]
  },
  {
   "cell_type": "code",
   "execution_count": 15,
   "id": "cad7b4b3",
   "metadata": {},
   "outputs": [
    {
     "name": "stdout",
     "output_type": "stream",
     "text": [
      "Model loaded from modify_net3.pt, with val loss: 0.47489261627197266\n",
      "For threshold = 0.00, Accuracy = 64.0000\n",
      "For threshold = 0.05, Accuracy = 82.7886\n",
      "For threshold = 0.10, Accuracy = 85.2514\n",
      "For threshold = 0.15, Accuracy = 87.4457\n",
      "For threshold = 0.20, Accuracy = 88.2514\n",
      "For threshold = 0.25, Accuracy = 90.4229\n",
      "For threshold = 0.30, Accuracy = 90.7886\n",
      "For threshold = 0.35, Accuracy = 91.4686\n",
      "For threshold = 0.40, Accuracy = 92.2114\n",
      "For threshold = 0.45, Accuracy = 91.7714\n",
      "For threshold = 0.50, Accuracy = 90.6971\n",
      "For threshold = 0.55, Accuracy = 87.8914\n",
      "For threshold = 0.60, Accuracy = 87.2800\n",
      "For threshold = 0.65, Accuracy = 85.3886\n",
      "For threshold = 0.70, Accuracy = 83.4229\n",
      "For threshold = 0.75, Accuracy = 78.3600\n",
      "For threshold = 0.80, Accuracy = 72.5543\n",
      "For threshold = 0.85, Accuracy = 66.8457\n",
      "For threshold = 0.90, Accuracy = 59.9886\n",
      "For threshold = 0.95, Accuracy = 58.5371\n"
     ]
    }
   ],
   "source": [
    "# Accuracy calculation for third set of parameters\n",
    "load_checkpoint(save_path3, modified_model3, optimizer)\n",
    "for threshold in range(0, 100, 5):\n",
    "    accuracy = find_threshold(modified_model3, valid_loader, device, threshold/100)\n",
    "    print('For threshold = {:.2f}, Accuracy = {:.4f}'.format(threshold/100, accuracy))"
   ]
  },
  {
   "cell_type": "code",
   "execution_count": 16,
   "id": "f88fb28b",
   "metadata": {},
   "outputs": [
    {
     "data": {
      "text/plain": [
       "Reusing TensorBoard on port 6006 (pid 18336), started 0:38:58 ago. (Use '!kill 18336' to kill it.)"
      ]
     },
     "metadata": {},
     "output_type": "display_data"
    },
    {
     "data": {
      "text/html": [
       "\n",
       "      <iframe id=\"tensorboard-frame-7cbcf39a950ac1e1\" width=\"100%\" height=\"800\" frameborder=\"0\">\n",
       "      </iframe>\n",
       "      <script>\n",
       "        (function() {\n",
       "          const frame = document.getElementById(\"tensorboard-frame-7cbcf39a950ac1e1\");\n",
       "          const url = new URL(\"/\", window.location);\n",
       "          const port = 6006;\n",
       "          if (port) {\n",
       "            url.port = port;\n",
       "          }\n",
       "          frame.src = url;\n",
       "        })();\n",
       "      </script>\n",
       "    "
      ],
      "text/plain": [
       "<IPython.core.display.HTML object>"
      ]
     },
     "metadata": {},
     "output_type": "display_data"
    }
   ],
   "source": [
    "%reload_ext tensorboard\n",
    "%tensorboard --logdir './runs'"
   ]
  },
  {
   "cell_type": "code",
   "execution_count": 17,
   "id": "75fcd4d7",
   "metadata": {
    "scrolled": true,
    "tags": []
   },
   "outputs": [
    {
     "data": {
      "application/vnd.jupyter.widget-view+json": {
       "model_id": "cf4c9f1768ab4ad08ca14f7e0fd25a15",
       "version_major": 2,
       "version_minor": 0
      },
      "text/plain": [
       "  0%|          | 0/115 [00:00<?, ?it/s]"
      ]
     },
     "metadata": {},
     "output_type": "display_data"
    },
    {
     "name": "stdout",
     "output_type": "stream",
     "text": [
      "Step 10, Training Loss: 0.6975, Validation Loss: 0.7007\n",
      "Model saved to modify_net4.pt\n",
      "Step 20, Training Loss: 0.6925, Validation Loss: 0.6848\n",
      "Model saved to modify_net4.pt\n",
      "Step 30, Training Loss: 0.6950, Validation Loss: 0.6910\n",
      "Step 40, Training Loss: 0.6816, Validation Loss: 0.6909\n",
      "Step 50, Training Loss: 0.6887, Validation Loss: 0.6895\n",
      "Step 60, Training Loss: 0.6894, Validation Loss: 0.6875\n",
      "Step 70, Training Loss: 0.6828, Validation Loss: 0.6935\n",
      "Step 80, Training Loss: 0.6855, Validation Loss: 0.6901\n",
      "Step 90, Training Loss: 0.6787, Validation Loss: 0.6850\n",
      "Step 100, Training Loss: 0.6814, Validation Loss: 0.6816\n",
      "Model saved to modify_net4.pt\n",
      "Step 110, Training Loss: 0.6693, Validation Loss: 0.6863\n",
      "Epoch [1/15] finished\n"
     ]
    },
    {
     "data": {
      "application/vnd.jupyter.widget-view+json": {
       "model_id": "2a07dc854a244f8eb871ed080cf23d68",
       "version_major": 2,
       "version_minor": 0
      },
      "text/plain": [
       "  0%|          | 0/115 [00:00<?, ?it/s]"
      ]
     },
     "metadata": {},
     "output_type": "display_data"
    },
    {
     "name": "stdout",
     "output_type": "stream",
     "text": [
      "Step 120, Training Loss: 0.6969, Validation Loss: 0.6859\n",
      "Step 130, Training Loss: 0.6895, Validation Loss: 0.6933\n",
      "Step 140, Training Loss: 0.6759, Validation Loss: 0.6791\n",
      "Model saved to modify_net4.pt\n",
      "Step 150, Training Loss: 0.6701, Validation Loss: 0.6834\n",
      "Step 160, Training Loss: 0.6756, Validation Loss: 0.6848\n",
      "Step 170, Training Loss: 0.6747, Validation Loss: 0.6693\n",
      "Model saved to modify_net4.pt\n",
      "Step 180, Training Loss: 0.6756, Validation Loss: 0.6913\n",
      "Step 190, Training Loss: 0.6780, Validation Loss: 0.6623\n",
      "Model saved to modify_net4.pt\n",
      "Step 200, Training Loss: 0.6596, Validation Loss: 0.6474\n",
      "Model saved to modify_net4.pt\n",
      "Step 210, Training Loss: 0.6533, Validation Loss: 0.6444\n",
      "Model saved to modify_net4.pt\n",
      "Step 220, Training Loss: 0.6487, Validation Loss: 0.6460\n",
      "Step 230, Training Loss: 0.6297, Validation Loss: 0.6590\n",
      "Epoch [2/15] finished\n"
     ]
    },
    {
     "data": {
      "application/vnd.jupyter.widget-view+json": {
       "model_id": "8fe4bef5638341a398544b3a630a2d7f",
       "version_major": 2,
       "version_minor": 0
      },
      "text/plain": [
       "  0%|          | 0/115 [00:00<?, ?it/s]"
      ]
     },
     "metadata": {},
     "output_type": "display_data"
    },
    {
     "name": "stdout",
     "output_type": "stream",
     "text": [
      "Step 240, Training Loss: 0.6666, Validation Loss: 0.6916\n",
      "Step 250, Training Loss: 0.6460, Validation Loss: 0.6580\n",
      "Step 260, Training Loss: 0.6584, Validation Loss: 0.6518\n",
      "Step 270, Training Loss: 0.6369, Validation Loss: 0.6253\n",
      "Model saved to modify_net4.pt\n",
      "Step 280, Training Loss: 0.6321, Validation Loss: 0.6196\n",
      "Model saved to modify_net4.pt\n",
      "Step 290, Training Loss: 0.6102, Validation Loss: 0.6197\n",
      "Step 300, Training Loss: 0.6245, Validation Loss: 0.6163\n",
      "Model saved to modify_net4.pt\n",
      "Step 310, Training Loss: 0.6153, Validation Loss: 0.6041\n",
      "Model saved to modify_net4.pt\n",
      "Step 320, Training Loss: 0.5896, Validation Loss: 0.6075\n",
      "Step 330, Training Loss: 0.6258, Validation Loss: 0.6083\n",
      "Step 340, Training Loss: 0.5928, Validation Loss: 0.6084\n",
      "Epoch [3/15] finished\n"
     ]
    },
    {
     "data": {
      "application/vnd.jupyter.widget-view+json": {
       "model_id": "b6f3e23953c3430d8f05819a9a58ff42",
       "version_major": 2,
       "version_minor": 0
      },
      "text/plain": [
       "  0%|          | 0/115 [00:00<?, ?it/s]"
      ]
     },
     "metadata": {},
     "output_type": "display_data"
    },
    {
     "name": "stdout",
     "output_type": "stream",
     "text": [
      "Step 350, Training Loss: 0.6351, Validation Loss: 0.6090\n",
      "Step 360, Training Loss: 0.6156, Validation Loss: 0.6041\n",
      "Model saved to modify_net4.pt\n",
      "Step 370, Training Loss: 0.5877, Validation Loss: 0.5991\n",
      "Model saved to modify_net4.pt\n",
      "Step 380, Training Loss: 0.5796, Validation Loss: 0.5940\n",
      "Model saved to modify_net4.pt\n",
      "Step 390, Training Loss: 0.5714, Validation Loss: 0.6082\n",
      "Step 400, Training Loss: 0.5782, Validation Loss: 0.5839\n",
      "Model saved to modify_net4.pt\n",
      "Step 410, Training Loss: 0.5718, Validation Loss: 0.5724\n",
      "Model saved to modify_net4.pt\n",
      "Step 420, Training Loss: 0.5747, Validation Loss: 0.5723\n",
      "Model saved to modify_net4.pt\n",
      "Step 430, Training Loss: 0.5701, Validation Loss: 0.5716\n",
      "Model saved to modify_net4.pt\n",
      "Step 440, Training Loss: 0.5558, Validation Loss: 0.5629\n",
      "Model saved to modify_net4.pt\n",
      "Step 450, Training Loss: 0.5430, Validation Loss: 0.5581\n",
      "Model saved to modify_net4.pt\n",
      "Step 460, Training Loss: 0.5474, Validation Loss: 0.5562\n",
      "Model saved to modify_net4.pt\n",
      "Epoch [4/15] finished\n"
     ]
    },
    {
     "data": {
      "application/vnd.jupyter.widget-view+json": {
       "model_id": "fb62342240b64ab88e4721d0d83cea63",
       "version_major": 2,
       "version_minor": 0
      },
      "text/plain": [
       "  0%|          | 0/115 [00:00<?, ?it/s]"
      ]
     },
     "metadata": {},
     "output_type": "display_data"
    },
    {
     "name": "stdout",
     "output_type": "stream",
     "text": [
      "Step 470, Training Loss: 0.6345, Validation Loss: 0.5942\n",
      "Step 480, Training Loss: 0.5698, Validation Loss: 0.5749\n",
      "Step 490, Training Loss: 0.5490, Validation Loss: 0.5716\n",
      "Step 500, Training Loss: 0.5563, Validation Loss: 0.5541\n",
      "Model saved to modify_net4.pt\n",
      "Step 510, Training Loss: 0.5304, Validation Loss: 0.5399\n",
      "Model saved to modify_net4.pt\n",
      "Step 520, Training Loss: 0.5066, Validation Loss: 0.5476\n",
      "Step 530, Training Loss: 0.5252, Validation Loss: 0.5421\n",
      "Step 540, Training Loss: 0.5183, Validation Loss: 0.5487\n",
      "Step 550, Training Loss: 0.5260, Validation Loss: 0.5442\n",
      "Step 560, Training Loss: 0.5114, Validation Loss: 0.5427\n",
      "Step 570, Training Loss: 0.5118, Validation Loss: 0.5329\n",
      "Model saved to modify_net4.pt\n",
      "Epoch [5/15] finished\n"
     ]
    },
    {
     "data": {
      "application/vnd.jupyter.widget-view+json": {
       "model_id": "ce285f26a34845b3a5ea0e41bb4745a5",
       "version_major": 2,
       "version_minor": 0
      },
      "text/plain": [
       "  0%|          | 0/115 [00:00<?, ?it/s]"
      ]
     },
     "metadata": {},
     "output_type": "display_data"
    },
    {
     "name": "stdout",
     "output_type": "stream",
     "text": [
      "Step 580, Training Loss: 0.5315, Validation Loss: 0.5257\n",
      "Model saved to modify_net4.pt\n",
      "Step 590, Training Loss: 0.5223, Validation Loss: 0.5284\n",
      "Step 600, Training Loss: 0.4811, Validation Loss: 0.5131\n",
      "Model saved to modify_net4.pt\n",
      "Step 610, Training Loss: 0.4911, Validation Loss: 0.5239\n",
      "Step 620, Training Loss: 0.4737, Validation Loss: 0.5214\n",
      "Step 630, Training Loss: 0.4745, Validation Loss: 0.5165\n",
      "Step 640, Training Loss: 0.4927, Validation Loss: 0.4935\n",
      "Model saved to modify_net4.pt\n",
      "Step 650, Training Loss: 0.4701, Validation Loss: 0.5118\n",
      "Step 660, Training Loss: 0.4565, Validation Loss: 0.5182\n",
      "Step 670, Training Loss: 0.4634, Validation Loss: 0.5168\n",
      "Step 680, Training Loss: 0.4284, Validation Loss: 0.5489\n",
      "Step 690, Training Loss: 0.4782, Validation Loss: 0.5133\n",
      "Epoch [6/15] finished\n"
     ]
    },
    {
     "data": {
      "application/vnd.jupyter.widget-view+json": {
       "model_id": "c053cd51bb494d95b3fecd483209cc6f",
       "version_major": 2,
       "version_minor": 0
      },
      "text/plain": [
       "  0%|          | 0/115 [00:00<?, ?it/s]"
      ]
     },
     "metadata": {},
     "output_type": "display_data"
    },
    {
     "name": "stdout",
     "output_type": "stream",
     "text": [
      "Step 700, Training Loss: 0.5216, Validation Loss: 0.5266\n",
      "Step 710, Training Loss: 0.4331, Validation Loss: 0.4983\n",
      "Step 720, Training Loss: 0.4598, Validation Loss: 0.5090\n",
      "Step 730, Training Loss: 0.4266, Validation Loss: 0.5054\n",
      "Step 740, Training Loss: 0.4345, Validation Loss: 0.5355\n",
      "Step 750, Training Loss: 0.4868, Validation Loss: 0.5116\n",
      "Step 760, Training Loss: 0.4710, Validation Loss: 0.5132\n",
      "Step 770, Training Loss: 0.4797, Validation Loss: 0.5124\n",
      "Step 780, Training Loss: 0.4230, Validation Loss: 0.5038\n",
      "Step 790, Training Loss: 0.4287, Validation Loss: 0.4733\n",
      "Model saved to modify_net4.pt\n",
      "Step 800, Training Loss: 0.4114, Validation Loss: 0.4900\n",
      "Epoch [7/15] finished\n"
     ]
    },
    {
     "data": {
      "application/vnd.jupyter.widget-view+json": {
       "model_id": "e15a721c81a842409381970458bc42ee",
       "version_major": 2,
       "version_minor": 0
      },
      "text/plain": [
       "  0%|          | 0/115 [00:00<?, ?it/s]"
      ]
     },
     "metadata": {},
     "output_type": "display_data"
    },
    {
     "name": "stdout",
     "output_type": "stream",
     "text": [
      "Step 810, Training Loss: 0.4798, Validation Loss: 0.5088\n",
      "Step 820, Training Loss: 0.4315, Validation Loss: 0.5148\n",
      "Step 830, Training Loss: 0.3865, Validation Loss: 0.4796\n",
      "Step 840, Training Loss: 0.3902, Validation Loss: 0.5243\n",
      "Step 850, Training Loss: 0.4198, Validation Loss: 0.5061\n",
      "Step 860, Training Loss: 0.4075, Validation Loss: 0.5269\n",
      "Step 870, Training Loss: 0.4029, Validation Loss: 0.5006\n",
      "Step 880, Training Loss: 0.4334, Validation Loss: 0.4880\n",
      "Step 890, Training Loss: 0.4046, Validation Loss: 0.4906\n",
      "Step 900, Training Loss: 0.3628, Validation Loss: 0.4614\n",
      "Model saved to modify_net4.pt\n",
      "Step 910, Training Loss: 0.4030, Validation Loss: 0.5022\n",
      "Step 920, Training Loss: 0.3735, Validation Loss: 0.4806\n",
      "Epoch [8/15] finished\n"
     ]
    },
    {
     "data": {
      "application/vnd.jupyter.widget-view+json": {
       "model_id": "10dbdf3422a24a3093af11c18725b015",
       "version_major": 2,
       "version_minor": 0
      },
      "text/plain": [
       "  0%|          | 0/115 [00:00<?, ?it/s]"
      ]
     },
     "metadata": {},
     "output_type": "display_data"
    },
    {
     "name": "stdout",
     "output_type": "stream",
     "text": [
      "Step 930, Training Loss: 0.4294, Validation Loss: 0.5202\n",
      "Step 940, Training Loss: 0.3816, Validation Loss: 0.4915\n",
      "Step 950, Training Loss: 0.3761, Validation Loss: 0.5104\n",
      "Step 960, Training Loss: 0.3528, Validation Loss: 0.5034\n",
      "Step 970, Training Loss: 0.3737, Validation Loss: 0.5268\n",
      "Step 980, Training Loss: 0.4210, Validation Loss: 0.4990\n",
      "Step 990, Training Loss: 0.3828, Validation Loss: 0.4776\n",
      "Step 1000, Training Loss: 0.3804, Validation Loss: 0.4546\n",
      "Model saved to modify_net4.pt\n",
      "Step 1010, Training Loss: 0.3777, Validation Loss: 0.4717\n",
      "Step 1020, Training Loss: 0.3911, Validation Loss: 0.4780\n",
      "Step 1030, Training Loss: 0.3740, Validation Loss: 0.4815\n",
      "Epoch [9/15] finished\n"
     ]
    },
    {
     "data": {
      "application/vnd.jupyter.widget-view+json": {
       "model_id": "f08c462d4bd94446b300e4bd85c62fc3",
       "version_major": 2,
       "version_minor": 0
      },
      "text/plain": [
       "  0%|          | 0/115 [00:00<?, ?it/s]"
      ]
     },
     "metadata": {},
     "output_type": "display_data"
    },
    {
     "name": "stdout",
     "output_type": "stream",
     "text": [
      "Step 1040, Training Loss: 0.3617, Validation Loss: 0.4555\n",
      "Step 1050, Training Loss: 0.3416, Validation Loss: 0.4780\n",
      "Step 1060, Training Loss: 0.3414, Validation Loss: 0.4698\n",
      "Step 1070, Training Loss: 0.3655, Validation Loss: 0.4768\n",
      "Step 1080, Training Loss: 0.3458, Validation Loss: 0.4856\n",
      "Step 1090, Training Loss: 0.3623, Validation Loss: 0.4710\n",
      "Step 1100, Training Loss: 0.3384, Validation Loss: 0.4701\n",
      "Step 1110, Training Loss: 0.3654, Validation Loss: 0.4770\n",
      "Step 1120, Training Loss: 0.3413, Validation Loss: 0.5234\n",
      "Step 1130, Training Loss: 0.3403, Validation Loss: 0.4676\n",
      "Step 1140, Training Loss: 0.3412, Validation Loss: 0.4703\n",
      "Step 1150, Training Loss: 0.3145, Validation Loss: 0.4805\n",
      "Epoch [10/15] finished\n"
     ]
    },
    {
     "data": {
      "application/vnd.jupyter.widget-view+json": {
       "model_id": "a99be10225ac409eb1e1b3de1a9e0d27",
       "version_major": 2,
       "version_minor": 0
      },
      "text/plain": [
       "  0%|          | 0/115 [00:00<?, ?it/s]"
      ]
     },
     "metadata": {},
     "output_type": "display_data"
    },
    {
     "name": "stdout",
     "output_type": "stream",
     "text": [
      "Step 1160, Training Loss: 0.3554, Validation Loss: 0.4910\n",
      "Step 1170, Training Loss: 0.3027, Validation Loss: 0.4757\n",
      "Step 1180, Training Loss: 0.3130, Validation Loss: 0.4928\n",
      "Step 1190, Training Loss: 0.3223, Validation Loss: 0.5050\n",
      "Step 1200, Training Loss: 0.3519, Validation Loss: 0.5202\n",
      "Step 1210, Training Loss: 0.3284, Validation Loss: 0.4602\n",
      "Step 1220, Training Loss: 0.3198, Validation Loss: 0.4783\n",
      "Step 1230, Training Loss: 0.3400, Validation Loss: 0.4778\n",
      "Step 1240, Training Loss: 0.3022, Validation Loss: 0.4747\n",
      "Step 1250, Training Loss: 0.3053, Validation Loss: 0.4568\n",
      "Step 1260, Training Loss: 0.3225, Validation Loss: 0.4802\n",
      "Epoch [11/15] finished\n"
     ]
    },
    {
     "data": {
      "application/vnd.jupyter.widget-view+json": {
       "model_id": "70dfdfbf462f45ed9e7dc4ca8a0933a9",
       "version_major": 2,
       "version_minor": 0
      },
      "text/plain": [
       "  0%|          | 0/115 [00:00<?, ?it/s]"
      ]
     },
     "metadata": {},
     "output_type": "display_data"
    },
    {
     "name": "stdout",
     "output_type": "stream",
     "text": [
      "Step 1270, Training Loss: 0.2965, Validation Loss: 0.4632\n",
      "Step 1280, Training Loss: 0.3461, Validation Loss: 0.4959\n",
      "Step 1290, Training Loss: 0.2709, Validation Loss: 0.5061\n",
      "Step 1300, Training Loss: 0.2847, Validation Loss: 0.4782\n",
      "Step 1310, Training Loss: 0.2914, Validation Loss: 0.4760\n",
      "Step 1320, Training Loss: 0.2801, Validation Loss: 0.4767\n",
      "Step 1330, Training Loss: 0.2722, Validation Loss: 0.5075\n",
      "Step 1340, Training Loss: 0.2894, Validation Loss: 0.5037\n",
      "Step 1350, Training Loss: 0.2978, Validation Loss: 0.4841\n",
      "Step 1360, Training Loss: 0.2924, Validation Loss: 0.4744\n",
      "Step 1370, Training Loss: 0.2686, Validation Loss: 0.4843\n",
      "Step 1380, Training Loss: 0.2657, Validation Loss: 0.5230\n",
      "Epoch [12/15] finished\n"
     ]
    },
    {
     "data": {
      "application/vnd.jupyter.widget-view+json": {
       "model_id": "36ca858644944822b0d658f485cde888",
       "version_major": 2,
       "version_minor": 0
      },
      "text/plain": [
       "  0%|          | 0/115 [00:00<?, ?it/s]"
      ]
     },
     "metadata": {},
     "output_type": "display_data"
    },
    {
     "name": "stdout",
     "output_type": "stream",
     "text": [
      "Step 1390, Training Loss: 0.2822, Validation Loss: 0.4860\n",
      "Step 1400, Training Loss: 0.2357, Validation Loss: 0.5175\n",
      "Step 1410, Training Loss: 0.2800, Validation Loss: 0.5106\n",
      "Step 1420, Training Loss: 0.2695, Validation Loss: 0.4759\n",
      "Step 1430, Training Loss: 0.2645, Validation Loss: 0.5229\n",
      "Step 1440, Training Loss: 0.2629, Validation Loss: 0.4703\n",
      "Step 1450, Training Loss: 0.2554, Validation Loss: 0.5025\n",
      "Step 1460, Training Loss: 0.2839, Validation Loss: 0.5428\n",
      "Step 1470, Training Loss: 0.2739, Validation Loss: 0.4999\n",
      "Step 1480, Training Loss: 0.2493, Validation Loss: 0.4860\n",
      "Step 1490, Training Loss: 0.2473, Validation Loss: 0.4758\n",
      "Epoch [13/15] finished\n"
     ]
    },
    {
     "data": {
      "application/vnd.jupyter.widget-view+json": {
       "model_id": "48b507b9b4eb4560bd16d6c2be84b8a2",
       "version_major": 2,
       "version_minor": 0
      },
      "text/plain": [
       "  0%|          | 0/115 [00:00<?, ?it/s]"
      ]
     },
     "metadata": {},
     "output_type": "display_data"
    },
    {
     "name": "stdout",
     "output_type": "stream",
     "text": [
      "Step 1500, Training Loss: 0.2371, Validation Loss: 0.5023\n",
      "Step 1510, Training Loss: 0.2199, Validation Loss: 0.5252\n",
      "Step 1520, Training Loss: 0.2175, Validation Loss: 0.5114\n",
      "Step 1530, Training Loss: 0.2221, Validation Loss: 0.5252\n",
      "Step 1540, Training Loss: 0.2322, Validation Loss: 0.5344\n",
      "Step 1550, Training Loss: 0.2280, Validation Loss: 0.5191\n",
      "Step 1560, Training Loss: 0.2200, Validation Loss: 0.5681\n",
      "Step 1570, Training Loss: 0.2579, Validation Loss: 0.5059\n",
      "Step 1580, Training Loss: 0.2496, Validation Loss: 0.5004\n",
      "Step 1590, Training Loss: 0.2519, Validation Loss: 0.5363\n",
      "Step 1600, Training Loss: 0.2843, Validation Loss: 0.4839\n",
      "Step 1610, Training Loss: 0.2405, Validation Loss: 0.4932\n",
      "Epoch [14/15] finished\n"
     ]
    },
    {
     "data": {
      "application/vnd.jupyter.widget-view+json": {
       "model_id": "610d2ccfee1c4fa78ead8d960428a3b2",
       "version_major": 2,
       "version_minor": 0
      },
      "text/plain": [
       "  0%|          | 0/115 [00:00<?, ?it/s]"
      ]
     },
     "metadata": {},
     "output_type": "display_data"
    },
    {
     "name": "stdout",
     "output_type": "stream",
     "text": [
      "Step 1620, Training Loss: 0.2301, Validation Loss: 0.5217\n",
      "Step 1630, Training Loss: 0.2189, Validation Loss: 0.5109\n",
      "Step 1640, Training Loss: 0.2075, Validation Loss: 0.5224\n",
      "Step 1650, Training Loss: 0.2304, Validation Loss: 0.5242\n",
      "Step 1660, Training Loss: 0.2016, Validation Loss: 0.5147\n",
      "Step 1670, Training Loss: 0.2009, Validation Loss: 0.5650\n",
      "Step 1680, Training Loss: 0.2198, Validation Loss: 0.5568\n",
      "Step 1690, Training Loss: 0.2349, Validation Loss: 0.5538\n",
      "Step 1700, Training Loss: 0.2366, Validation Loss: 0.5144\n",
      "Step 1710, Training Loss: 0.2045, Validation Loss: 0.5368\n",
      "Step 1720, Training Loss: 0.2313, Validation Loss: 0.5382\n",
      "Epoch [15/15] finished\n",
      "Finished Training\n"
     ]
    }
   ],
   "source": [
    "# Q8C: Data Agumentation\n",
    "# 1: Random Horizontal Flip with 0.5 probability\n",
    "# 2: Random Rotation\n",
    "\n",
    "new_transform1 = transforms.Compose(\n",
    "    [transforms.Resize((32,32)),\n",
    "     transforms.RandomHorizontalFlip(p=0.5),\n",
    "     transforms.ToTensor(),    \n",
    "     transforms.Normalize((0.5,), (0.5,)) ])\n",
    "\n",
    "new_transform2 = transforms.Compose(\n",
    "    [transforms.Resize((32,32)),\n",
    "     transforms.Compose([transforms.RandomRotation(degrees=(10, 90))]),\n",
    "     transforms.ToTensor(),    \n",
    "     transforms.Normalize((0.5,), (0.5,)) ])   \n",
    "\n",
    "new_train_dataset = train_dataset + ImageDataset(PATH + 'train.csv', PATH + 'index.txt', new_transform1) + ImageDataset(PATH + 'train.csv', PATH + 'index.txt', new_transform2)\n",
    "new_valid_dataset = valid_dataset + ImageDataset(PATH + 'valid.csv', PATH + 'index.txt', new_transform1) + ImageDataset(PATH + 'valid.csv', PATH + 'index.txt', new_transform2)\n",
    "\n",
    "new_train_loader = DataLoader(new_train_dataset, batch_size=128, shuffle=True)\n",
    "new_valid_loader = DataLoader(new_valid_dataset, batch_size=128, shuffle=False)\n",
    "\n",
    "modified_model4 = Net().cuda()\n",
    "# parameters obtained from Q8A third model\n",
    "modified_num_epochs = 15\n",
    "modified_optimizer = optim.Adam(modified_model4.parameters(), lr=0.00075)\n",
    "modify_writer4 = SummaryWriter(os.path.join(PATH, 'runs/hr4'))\n",
    "save_path4 = f'modify_net4.pt'\n",
    "\n",
    "TRAIN(modified_model4, new_train_loader, new_valid_loader, modified_num_epochs, criterion, modified_optimizer, best_val_loss, device, save_path4, modify_writer4)"
   ]
  },
  {
   "cell_type": "code",
   "execution_count": 18,
   "id": "10192402",
   "metadata": {},
   "outputs": [
    {
     "name": "stdout",
     "output_type": "stream",
     "text": [
      "Model loaded from modify_net4.pt, with val loss: 0.4545670169241288\n",
      "For threshold = 0.00, Accuracy = 64.0000\n",
      "For threshold = 0.05, Accuracy = 84.5200\n",
      "For threshold = 0.10, Accuracy = 89.1029\n",
      "For threshold = 0.15, Accuracy = 92.9200\n",
      "For threshold = 0.20, Accuracy = 93.2114\n",
      "For threshold = 0.25, Accuracy = 93.6857\n",
      "For threshold = 0.30, Accuracy = 94.5257\n",
      "For threshold = 0.35, Accuracy = 94.6229\n",
      "For threshold = 0.40, Accuracy = 94.0971\n",
      "For threshold = 0.45, Accuracy = 93.5486\n",
      "For threshold = 0.50, Accuracy = 93.5371\n",
      "For threshold = 0.55, Accuracy = 91.0857\n",
      "For threshold = 0.60, Accuracy = 89.6457\n",
      "For threshold = 0.65, Accuracy = 87.8514\n",
      "For threshold = 0.70, Accuracy = 86.5943\n",
      "For threshold = 0.75, Accuracy = 83.7143\n",
      "For threshold = 0.80, Accuracy = 80.2629\n",
      "For threshold = 0.85, Accuracy = 75.2114\n",
      "For threshold = 0.90, Accuracy = 71.1486\n",
      "For threshold = 0.95, Accuracy = 60.6343\n"
     ]
    }
   ],
   "source": [
    "load_checkpoint(save_path4, modified_model4, optimizer)\n",
    "for threshold in range(0, 100, 5):\n",
    "    accuracy = find_threshold(modified_model4, valid_loader, device, threshold/100)\n",
    "    print('For threshold = {:.2f}, Accuracy = {:.4f}'.format(threshold/100, accuracy))"
   ]
  },
  {
   "cell_type": "code",
   "execution_count": 19,
   "id": "3eee9639",
   "metadata": {},
   "outputs": [
    {
     "data": {
      "text/plain": [
       "Reusing TensorBoard on port 6006 (pid 18336), started 1:40:25 ago. (Use '!kill 18336' to kill it.)"
      ]
     },
     "metadata": {},
     "output_type": "display_data"
    },
    {
     "data": {
      "text/html": [
       "\n",
       "      <iframe id=\"tensorboard-frame-bc595e3883ed3758\" width=\"100%\" height=\"800\" frameborder=\"0\">\n",
       "      </iframe>\n",
       "      <script>\n",
       "        (function() {\n",
       "          const frame = document.getElementById(\"tensorboard-frame-bc595e3883ed3758\");\n",
       "          const url = new URL(\"/\", window.location);\n",
       "          const port = 6006;\n",
       "          if (port) {\n",
       "            url.port = port;\n",
       "          }\n",
       "          frame.src = url;\n",
       "        })();\n",
       "      </script>\n",
       "    "
      ],
      "text/plain": [
       "<IPython.core.display.HTML object>"
      ]
     },
     "metadata": {},
     "output_type": "display_data"
    }
   ],
   "source": [
    "%reload_ext tensorboard\n",
    "%tensorboard --logdir './runs'"
   ]
  },
  {
   "cell_type": "markdown",
   "id": "7c42b034",
   "metadata": {},
   "source": [
    "### 4.2.6 Prediction\n",
    "Finally, you have built your own face comparison model! The last step is to predict the similarity scores in test.csv and save the predictions as p1.csv. Your predictions should be aimed to produce an optimal accuracy score.\n",
    "\n",
    "**[P1]**  Submit your predictions as p1.csv. The format of p1.csv should be the same as that of train.csv: first two columns for the image indices and the third column for the predicted label (1: match; 0: not match). It is important to keep the row order to be the same as that in test.csv.\n"
   ]
  },
  {
   "cell_type": "code",
   "execution_count": null,
   "id": "234e88b0",
   "metadata": {},
   "outputs": [],
   "source": [
    "test_dataset = ImageDataset(PATH + 'test.csv', PATH + 'index.txt', transform)\n",
    "test_loader = DataLoader(test_dataset, batch_size=128, shuffle=False)\n",
    "\n",
    "input1_list, input2_list, pred_list = [], [], []\n",
    "\n",
    "optimal_threshold = 0.35\n",
    "\n",
    "with torch.no_grad():\n",
    "    modified_model4.eval()\n",
    "    for input1, input2, _ in test_loader:\n",
    "        outputs = modified_model4(input1,input2)\n",
    "        preds = (outputs > 0.35)\n",
    "\n",
    "        input1_list += (id1.tolist())\n",
    "        input2_list += (id2.tolist())\n",
    "        for pred in preds:\n",
    "            if(pred == True):\n",
    "                pred_list.append(1) \n",
    "            else:\n",
    "                pred_list.append(0)\n",
    "\n",
    "d = {\n",
    "    'id1': input1_list,\n",
    "    'id2': input2_list,\n",
    "    'target': pred_list\n",
    "} \n",
    "df = pd.DataFrame.from_dict(d)\n",
    "df.to_csv('20599045_p1.csv',index=False)"
   ]
  },
  {
   "cell_type": "code",
   "execution_count": null,
   "id": "b79f1a48",
   "metadata": {},
   "outputs": [],
   "source": []
  }
 ],
 "metadata": {
  "kernelspec": {
   "display_name": "Python 3",
   "language": "python",
   "name": "python3"
  },
  "language_info": {
   "codemirror_mode": {
    "name": "ipython",
    "version": 3
   },
   "file_extension": ".py",
   "mimetype": "text/x-python",
   "name": "python",
   "nbconvert_exporter": "python",
   "pygments_lexer": "ipython3",
   "version": "3.9.2"
  }
 },
 "nbformat": 4,
 "nbformat_minor": 5
}
